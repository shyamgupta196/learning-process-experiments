{
 "cells": [
  {
   "cell_type": "code",
   "execution_count": 18,
   "metadata": {},
   "outputs": [],
   "source": [
    "import pandas as pd\n",
    "import numpy as np \n",
    "import matplotlib.pyplot as plt\n",
    "import seaborn as sns\n",
    "\n",
    "\n",
    "from sklearn.linear_model import LinearRegression\n",
    "from sklearn.preprocessing import LabelEncoder\n",
    "from sklearn.model_selection import train_test_split,KFold,cross_val_score\n",
    "from sklearn.metrics import mean_squared_error\n",
    "from sklearn.ensemble import RandomForestRegressor \n",
    "from sklearn.model_selection import GridSearchCV \n",
    "import joblib  \n",
    "from lightgbm import LGBMRegressor\n",
    "from sklearn.metrics import roc_auc_score"
   ]
  },
  {
   "cell_type": "code",
   "execution_count": 2,
   "metadata": {},
   "outputs": [],
   "source": [
    "data_1 = pd.read_csv('data (1).csv')"
   ]
  },
  {
   "cell_type": "code",
   "execution_count": 3,
   "metadata": {},
   "outputs": [
    {
     "data": {
      "text/html": [
       "<div>\n",
       "<style scoped>\n",
       "    .dataframe tbody tr th:only-of-type {\n",
       "        vertical-align: middle;\n",
       "    }\n",
       "\n",
       "    .dataframe tbody tr th {\n",
       "        vertical-align: top;\n",
       "    }\n",
       "\n",
       "    .dataframe thead th {\n",
       "        text-align: right;\n",
       "    }\n",
       "</style>\n",
       "<table border=\"1\" class=\"dataframe\">\n",
       "  <thead>\n",
       "    <tr style=\"text-align: right;\">\n",
       "      <th>Emissions, Transportation Sector, MMT CO2 eq.</th>\n",
       "      <th>Fossil fuel combustion: carbon dioxide</th>\n",
       "      <th>Use of fluorinated gases</th>\n",
       "      <th>Fossil fuel combustion: other greenhouse gases</th>\n",
       "      <th>Other transportation categories</th>\n",
       "      <th>Total</th>\n",
       "    </tr>\n",
       "  </thead>\n",
       "  <tbody>\n",
       "    <tr>\n",
       "      <th>1990</th>\n",
       "      <td>1469.115528</td>\n",
       "      <td>0.000000</td>\n",
       "      <td>45.668591</td>\n",
       "      <td>11.838675</td>\n",
       "      <td>1526.622794</td>\n",
       "    </tr>\n",
       "    <tr>\n",
       "      <th>1991</th>\n",
       "      <td>1422.497711</td>\n",
       "      <td>0.000000</td>\n",
       "      <td>47.400427</td>\n",
       "      <td>10.590906</td>\n",
       "      <td>1480.489044</td>\n",
       "    </tr>\n",
       "    <tr>\n",
       "      <th>1992</th>\n",
       "      <td>1477.782746</td>\n",
       "      <td>1.168982</td>\n",
       "      <td>50.284896</td>\n",
       "      <td>10.797881</td>\n",
       "      <td>1540.034504</td>\n",
       "    </tr>\n",
       "    <tr>\n",
       "      <th>1993</th>\n",
       "      <td>1508.742535</td>\n",
       "      <td>5.097346</td>\n",
       "      <td>52.199885</td>\n",
       "      <td>10.995035</td>\n",
       "      <td>1577.034801</td>\n",
       "    </tr>\n",
       "    <tr>\n",
       "      <th>1994</th>\n",
       "      <td>1554.069912</td>\n",
       "      <td>12.406418</td>\n",
       "      <td>54.008438</td>\n",
       "      <td>11.491990</td>\n",
       "      <td>1631.976758</td>\n",
       "    </tr>\n",
       "  </tbody>\n",
       "</table>\n",
       "</div>"
      ],
      "text/plain": [
       "Emissions, Transportation Sector, MMT CO2 eq.  Fossil fuel combustion: carbon dioxide  \\\n",
       "1990                                                                      1469.115528   \n",
       "1991                                                                      1422.497711   \n",
       "1992                                                                      1477.782746   \n",
       "1993                                                                      1508.742535   \n",
       "1994                                                                      1554.069912   \n",
       "\n",
       "Emissions, Transportation Sector, MMT CO2 eq.  Use of fluorinated gases  \\\n",
       "1990                                                           0.000000   \n",
       "1991                                                           0.000000   \n",
       "1992                                                           1.168982   \n",
       "1993                                                           5.097346   \n",
       "1994                                                          12.406418   \n",
       "\n",
       "Emissions, Transportation Sector, MMT CO2 eq.  Fossil fuel combustion: other greenhouse gases  \\\n",
       "1990                                                                                45.668591   \n",
       "1991                                                                                47.400427   \n",
       "1992                                                                                50.284896   \n",
       "1993                                                                                52.199885   \n",
       "1994                                                                                54.008438   \n",
       "\n",
       "Emissions, Transportation Sector, MMT CO2 eq.  Other transportation categories  \\\n",
       "1990                                                                 11.838675   \n",
       "1991                                                                 10.590906   \n",
       "1992                                                                 10.797881   \n",
       "1993                                                                 10.995035   \n",
       "1994                                                                 11.491990   \n",
       "\n",
       "Emissions, Transportation Sector, MMT CO2 eq.        Total  \n",
       "1990                                           1526.622794  \n",
       "1991                                           1480.489044  \n",
       "1992                                           1540.034504  \n",
       "1993                                           1577.034801  \n",
       "1994                                           1631.976758  "
      ]
     },
     "execution_count": 3,
     "metadata": {},
     "output_type": "execute_result"
    }
   ],
   "source": [
    "df1 = data_1.set_index('Emissions, Transportation Sector, MMT CO2 eq.').T\n",
    "\n",
    "df1.isna().sum()\n",
    "\n",
    "df1.head()"
   ]
  },
  {
   "cell_type": "code",
   "execution_count": 4,
   "metadata": {},
   "outputs": [],
   "source": [
    "df1 = df1.reset_index()\n",
    "\n",
    "df1.rename(columns = {'index':'years'},inplace=True)"
   ]
  },
  {
   "cell_type": "code",
   "execution_count": 5,
   "metadata": {},
   "outputs": [],
   "source": [
    "df1.to_csv('./clean data/transportationEmmisionLevelTotals.csv',index=False)"
   ]
  },
  {
   "cell_type": "code",
   "execution_count": 64,
   "metadata": {},
   "outputs": [
    {
     "data": {
      "text/plain": [
       "1975.9168458537"
      ]
     },
     "execution_count": 64,
     "metadata": {},
     "output_type": "execute_result"
    }
   ],
   "source": [
    "df1['Total'].max()"
   ]
  },
  {
   "cell_type": "code",
   "execution_count": 6,
   "metadata": {},
   "outputs": [
    {
     "data": {
      "image/png": "[encoded data removed]",
      "text/plain": [
       "<Figure size 1152x864 with 1 Axes>"
      ]
     },
     "metadata": {
      "needs_background": "light"
     },
     "output_type": "display_data"
    }
   ],
   "source": [
    "fig = plt.figure(figsize=(16,12))\n",
    "plt.plot(df1['years'],df1['Total'],'g--')\n",
    "plt.title('pollution from transportation vehicles over the year 1990-2019')\n",
    "plt.ylabel('total of co2 emmision, florinated gases, green house gases, other transportation concentration in atmosphere')\n",
    "plt.xlabel('Years 1990-2019')\n",
    "plt.xticks(rotation=45)\n",
    "plt.axhline(y=df1['Total'].max(),\n",
    "            color='r',linestyle='--')\n",
    "plt.axhline(y=df1['Total'].min(),\n",
    "            color='#333399',linestyle='--')\n",
    "plt.legend(['Data','MAX LEVEL ','MIN LEVEL'],loc='lower right')\n",
    "plt.text(s='''a significant drop in the pollution levels\n",
    "over  the years can be clearly seen''',x='2007',y=1900)\n",
    "plt.grid()\n",
    "plt.show()\n"
   ]
  },
  {
   "cell_type": "code",
   "execution_count": 7,
   "metadata": {},
   "outputs": [
    {
     "name": "stdout",
     "output_type": "stream",
     "text": [
      "  Emissions, Carbon Dioxide from Fossil Fuel Combustion, MMT CO2 eq.  \\\n",
      "0                                     Transportation                   \n",
      "1                             Electricity generation                   \n",
      "2                                           Industry                   \n",
      "3                                        Residential                   \n",
      "4                                         Commercial                   \n",
      "\n",
      "          1990         1991         1992         1993         1994  \\\n",
      "0  1469.115528  1422.497711  1477.782746  1508.742535  1554.069912   \n",
      "1  1819.950589  1817.358684  1830.687959  1906.172074  1930.468474   \n",
      "2   853.808149   839.111308   866.424512   865.291693   872.850770   \n",
      "3   338.578020   347.719419   353.988691   366.090923   357.049699   \n",
      "4   228.298201   232.665243   228.048595   222.991370   224.699877   \n",
      "\n",
      "          1995         1996         1997         1998  ...         2010  \\\n",
      "0  1580.795633  1627.474655  1643.618015  1679.024013  ...  1696.851476   \n",
      "1  1947.173238  2020.242971  2087.519803  2176.554625  ...  2258.638992   \n",
      "2   889.939343   922.939780   917.785477   890.757667  ...   796.824205   \n",
      "3   353.133577   383.474435   365.033346   331.610155  ...   334.750883   \n",
      "4   227.788740   237.558373   237.818661   220.117597  ...   224.459496   \n",
      "\n",
      "          2011         2012         2013         2014         2015  \\\n",
      "0  1671.204646  1660.351932  1669.818461  1708.210450  1719.230323   \n",
      "1  2158.067141  2023.255817  2038.270128  2037.165849  1900.637366   \n",
      "2   796.819286   806.743808   834.302835   814.481316   797.269957   \n",
      "3   326.151257   282.366813   329.110636   346.539501   317.304029   \n",
      "4   224.462530   200.307778   224.217865   232.422156   244.596249   \n",
      "\n",
      "          2016         2017         2018         2019  \n",
      "0  1759.866132  1782.441101  1816.563378  1817.208953  \n",
      "1  1808.870663  1732.031429  1752.935973  1606.023695  \n",
      "2   792.496187   790.069489   813.569282   822.469831  \n",
      "3   292.764136   293.397434   338.058253   336.751805  \n",
      "4   231.551583   231.989288   245.737906   249.690797  \n",
      "\n",
      "[5 rows x 31 columns]\n",
      "Emissions, Carbon Dioxide from Fossil Fuel Combustion, MMT CO2 eq.    0\n",
      "1990                                                                  0\n",
      "1991                                                                  0\n",
      "1992                                                                  0\n",
      "1993                                                                  0\n",
      "1994                                                                  0\n",
      "1995                                                                  0\n",
      "1996                                                                  0\n",
      "1997                                                                  0\n",
      "1998                                                                  0\n",
      "1999                                                                  0\n",
      "2000                                                                  0\n",
      "2001                                                                  0\n",
      "2002                                                                  0\n",
      "2003                                                                  0\n",
      "2004                                                                  0\n",
      "2005                                                                  0\n",
      "2006                                                                  0\n",
      "2007                                                                  0\n",
      "2008                                                                  0\n",
      "2009                                                                  0\n",
      "2010                                                                  0\n",
      "2011                                                                  0\n",
      "2012                                                                  0\n",
      "2013                                                                  0\n",
      "2014                                                                  0\n",
      "2015                                                                  0\n",
      "2016                                                                  0\n",
      "2017                                                                  0\n",
      "2018                                                                  0\n",
      "2019                                                                  0\n",
      "dtype: int64\n"
     ]
    },
    {
     "data": {
      "text/html": [
       "<div>\n",
       "<style scoped>\n",
       "    .dataframe tbody tr th:only-of-type {\n",
       "        vertical-align: middle;\n",
       "    }\n",
       "\n",
       "    .dataframe tbody tr th {\n",
       "        vertical-align: top;\n",
       "    }\n",
       "\n",
       "    .dataframe thead th {\n",
       "        text-align: right;\n",
       "    }\n",
       "</style>\n",
       "<table border=\"1\" class=\"dataframe\">\n",
       "  <thead>\n",
       "    <tr style=\"text-align: right;\">\n",
       "      <th>Emissions, Carbon Dioxide from Fossil Fuel Combustion, MMT CO2 eq.</th>\n",
       "      <th>years</th>\n",
       "      <th>Transportation</th>\n",
       "      <th>Electricity generation</th>\n",
       "      <th>Industry</th>\n",
       "      <th>Residential</th>\n",
       "      <th>Commercial</th>\n",
       "      <th>U.S. territories</th>\n",
       "      <th>Total</th>\n",
       "    </tr>\n",
       "  </thead>\n",
       "  <tbody>\n",
       "    <tr>\n",
       "      <th>0</th>\n",
       "      <td>1990</td>\n",
       "      <td>1469.115528</td>\n",
       "      <td>1819.950589</td>\n",
       "      <td>853.808149</td>\n",
       "      <td>338.578020</td>\n",
       "      <td>228.298201</td>\n",
       "      <td>21.715361</td>\n",
       "      <td>4731.465848</td>\n",
       "    </tr>\n",
       "    <tr>\n",
       "      <th>1</th>\n",
       "      <td>1991</td>\n",
       "      <td>1422.497711</td>\n",
       "      <td>1817.358684</td>\n",
       "      <td>839.111308</td>\n",
       "      <td>347.719419</td>\n",
       "      <td>232.665243</td>\n",
       "      <td>21.505261</td>\n",
       "      <td>4680.857626</td>\n",
       "    </tr>\n",
       "    <tr>\n",
       "      <th>2</th>\n",
       "      <td>1992</td>\n",
       "      <td>1477.782746</td>\n",
       "      <td>1830.687959</td>\n",
       "      <td>866.424512</td>\n",
       "      <td>353.988691</td>\n",
       "      <td>228.048595</td>\n",
       "      <td>23.058989</td>\n",
       "      <td>4779.991492</td>\n",
       "    </tr>\n",
       "    <tr>\n",
       "      <th>3</th>\n",
       "      <td>1993</td>\n",
       "      <td>1508.742535</td>\n",
       "      <td>1906.172074</td>\n",
       "      <td>865.291693</td>\n",
       "      <td>366.090923</td>\n",
       "      <td>222.991370</td>\n",
       "      <td>24.019634</td>\n",
       "      <td>4893.308228</td>\n",
       "    </tr>\n",
       "    <tr>\n",
       "      <th>4</th>\n",
       "      <td>1994</td>\n",
       "      <td>1554.069912</td>\n",
       "      <td>1930.468474</td>\n",
       "      <td>872.850770</td>\n",
       "      <td>357.049699</td>\n",
       "      <td>224.699877</td>\n",
       "      <td>25.731749</td>\n",
       "      <td>4964.870482</td>\n",
       "    </tr>\n",
       "  </tbody>\n",
       "</table>\n",
       "</div>"
      ],
      "text/plain": [
       "Emissions, Carbon Dioxide from Fossil Fuel Combustion, MMT CO2 eq. years  \\\n",
       "0                                                                   1990   \n",
       "1                                                                   1991   \n",
       "2                                                                   1992   \n",
       "3                                                                   1993   \n",
       "4                                                                   1994   \n",
       "\n",
       "Emissions, Carbon Dioxide from Fossil Fuel Combustion, MMT CO2 eq.  Transportation  \\\n",
       "0                                                                      1469.115528   \n",
       "1                                                                      1422.497711   \n",
       "2                                                                      1477.782746   \n",
       "3                                                                      1508.742535   \n",
       "4                                                                      1554.069912   \n",
       "\n",
       "Emissions, Carbon Dioxide from Fossil Fuel Combustion, MMT CO2 eq.  Electricity generation  \\\n",
       "0                                                                              1819.950589   \n",
       "1                                                                              1817.358684   \n",
       "2                                                                              1830.687959   \n",
       "3                                                                              1906.172074   \n",
       "4                                                                              1930.468474   \n",
       "\n",
       "Emissions, Carbon Dioxide from Fossil Fuel Combustion, MMT CO2 eq.    Industry  \\\n",
       "0                                                                   853.808149   \n",
       "1                                                                   839.111308   \n",
       "2                                                                   866.424512   \n",
       "3                                                                   865.291693   \n",
       "4                                                                   872.850770   \n",
       "\n",
       "Emissions, Carbon Dioxide from Fossil Fuel Combustion, MMT CO2 eq.  Residential  \\\n",
       "0                                                                    338.578020   \n",
       "1                                                                    347.719419   \n",
       "2                                                                    353.988691   \n",
       "3                                                                    366.090923   \n",
       "4                                                                    357.049699   \n",
       "\n",
       "Emissions, Carbon Dioxide from Fossil Fuel Combustion, MMT CO2 eq.  Commercial  \\\n",
       "0                                                                   228.298201   \n",
       "1                                                                   232.665243   \n",
       "2                                                                   228.048595   \n",
       "3                                                                   222.991370   \n",
       "4                                                                   224.699877   \n",
       "\n",
       "Emissions, Carbon Dioxide from Fossil Fuel Combustion, MMT CO2 eq.  U.S. territories  \\\n",
       "0                                                                          21.715361   \n",
       "1                                                                          21.505261   \n",
       "2                                                                          23.058989   \n",
       "3                                                                          24.019634   \n",
       "4                                                                          25.731749   \n",
       "\n",
       "Emissions, Carbon Dioxide from Fossil Fuel Combustion, MMT CO2 eq.        Total  \n",
       "0                                                                   4731.465848  \n",
       "1                                                                   4680.857626  \n",
       "2                                                                   4779.991492  \n",
       "3                                                                   4893.308228  \n",
       "4                                                                   4964.870482  "
      ]
     },
     "execution_count": 7,
     "metadata": {},
     "output_type": "execute_result"
    }
   ],
   "source": [
    "data_2 = pd.read_csv('data (2).csv')\n",
    "\n",
    "print(data_2.head())\n",
    "\n",
    "print(data_2.isna().sum())\n",
    "\n",
    "df2 = data_2.set_index('Emissions, Carbon Dioxide from Fossil Fuel Combustion, MMT CO2 eq.').T\n",
    "\n",
    "df2 = df2.reset_index()\n",
    "\n",
    "df2.rename(columns = {'index':'years'},inplace=True)\n",
    "df2.head()"
   ]
  },
  {
   "cell_type": "code",
   "execution_count": 8,
   "metadata": {},
   "outputs": [],
   "source": [
    "color_pallete = ['#0066cc','#53ff1a','#ff66d9','#ffbb33','#1affc6','#8533ff']"
   ]
  },
  {
   "cell_type": "code",
   "execution_count": 9,
   "metadata": {},
   "outputs": [
    {
     "data": {
      "text/plain": [
       "array(['Transportation', 'Electricity generation', 'Industry',\n",
       "       'Residential', 'Commercial', 'U.S. territories'], dtype=object)"
      ]
     },
     "execution_count": 9,
     "metadata": {},
     "output_type": "execute_result"
    }
   ],
   "source": [
    "df2.drop(['years','Total'],axis=1).columns.values"
   ]
  },
  {
   "cell_type": "code",
   "execution_count": 61,
   "metadata": {},
   "outputs": [
    {
     "data": {
      "text/plain": [
       "Text(2007, 1400, '⬇⬇⬇⬇ a significant drop in the combustion levels\\nfrom different sectors ')"
      ]
     },
     "execution_count": 61,
     "metadata": {},
     "output_type": "execute_result"
    },
    {
     "data": {
      "image/png": "[encoded data removed]",
      "text/plain": [
       "<Figure size 1080x720 with 1 Axes>"
      ]
     },
     "metadata": {
      "needs_background": "light"
     },
     "output_type": "display_data"
    }
   ],
   "source": [
    "fig = plt.figure(figsize=(15,10))\n",
    "plt.plot(df2['years'],df2.drop(['years','Total'],axis=1))\n",
    "plt.legend(['Transportation', 'Electricity generation', 'Industry',\n",
    "       'Residential', 'Commercial', 'U.S. territories'],loc='upper right')\n",
    "plt.xticks(rotation=45)\n",
    "plt.grid()\n",
    "plt.text(s='''⬇⬇⬇⬇ a significant drop in the combustion levels\n",
    "from different sectors ''',x='2007',y=1400,fontdict={'fontstyle':'oblique','fontsize':15})#over the years the co2 from electricity gen. reduced significantly after some major steps of reforms were taken by the EPA(env. protection. agency)\n",
    "# they switched from coal to  cleaner energy sources the result of which is seen as a drop in the pollution level in 2006 ....... \n",
    "# for more we can google the cleaner fuel alt. they adopted for over the years....\n"
   ]
  },
  {
   "cell_type": "code",
   "execution_count": 53,
   "metadata": {},
   "outputs": [],
   "source": [
    "df2.to_csv('./clean data/fossilfuelCombustionOfDifferentSectors.csv',index=False)"
   ]
  },
  {
   "cell_type": "code",
   "execution_count": null,
   "metadata": {},
   "outputs": [],
   "source": []
  },
  {
   "cell_type": "code",
   "execution_count": 17,
   "metadata": {},
   "outputs": [],
   "source": [
    "data_3 = pd.read_csv('data (3).csv')"
   ]
  },
  {
   "cell_type": "code",
   "execution_count": 18,
   "metadata": {},
   "outputs": [
    {
     "data": {
      "text/html": [
       "<div>\n",
       "<style scoped>\n",
       "    .dataframe tbody tr th:only-of-type {\n",
       "        vertical-align: middle;\n",
       "    }\n",
       "\n",
       "    .dataframe tbody tr th {\n",
       "        vertical-align: top;\n",
       "    }\n",
       "\n",
       "    .dataframe thead th {\n",
       "        text-align: right;\n",
       "    }\n",
       "</style>\n",
       "<table border=\"1\" class=\"dataframe\">\n",
       "  <thead>\n",
       "    <tr style=\"text-align: right;\">\n",
       "      <th></th>\n",
       "      <th>Emissions, Natural Gas and Petroleum Systems, MMT CO2 eq.</th>\n",
       "      <th>1990</th>\n",
       "      <th>1991</th>\n",
       "      <th>1992</th>\n",
       "      <th>1993</th>\n",
       "      <th>1994</th>\n",
       "      <th>1995</th>\n",
       "      <th>1996</th>\n",
       "      <th>1997</th>\n",
       "      <th>1998</th>\n",
       "      <th>...</th>\n",
       "      <th>2010</th>\n",
       "      <th>2011</th>\n",
       "      <th>2012</th>\n",
       "      <th>2013</th>\n",
       "      <th>2014</th>\n",
       "      <th>2015</th>\n",
       "      <th>2016</th>\n",
       "      <th>2017</th>\n",
       "      <th>2018</th>\n",
       "      <th>2019</th>\n",
       "    </tr>\n",
       "  </thead>\n",
       "  <tbody>\n",
       "    <tr>\n",
       "      <th>0</th>\n",
       "      <td>Natural gas - production</td>\n",
       "      <td>61.813243</td>\n",
       "      <td>65.587332</td>\n",
       "      <td>65.615797</td>\n",
       "      <td>69.990753</td>\n",
       "      <td>72.511494</td>\n",
       "      <td>70.426469</td>\n",
       "      <td>72.992806</td>\n",
       "      <td>75.427258</td>\n",
       "      <td>75.950120</td>\n",
       "      <td>...</td>\n",
       "      <td>96.827460</td>\n",
       "      <td>98.075644</td>\n",
       "      <td>98.634970</td>\n",
       "      <td>99.259742</td>\n",
       "      <td>96.982835</td>\n",
       "      <td>96.936525</td>\n",
       "      <td>94.135098</td>\n",
       "      <td>96.616064</td>\n",
       "      <td>100.615165</td>\n",
       "      <td>104.653986</td>\n",
       "    </tr>\n",
       "    <tr>\n",
       "      <th>1</th>\n",
       "      <td>Petroleum systems - production</td>\n",
       "      <td>51.179228</td>\n",
       "      <td>51.367904</td>\n",
       "      <td>49.909665</td>\n",
       "      <td>48.054060</td>\n",
       "      <td>47.990545</td>\n",
       "      <td>48.075870</td>\n",
       "      <td>48.452862</td>\n",
       "      <td>48.051780</td>\n",
       "      <td>47.116114</td>\n",
       "      <td>...</td>\n",
       "      <td>44.244163</td>\n",
       "      <td>46.081658</td>\n",
       "      <td>49.286424</td>\n",
       "      <td>56.328106</td>\n",
       "      <td>62.167786</td>\n",
       "      <td>64.564571</td>\n",
       "      <td>54.360142</td>\n",
       "      <td>57.549067</td>\n",
       "      <td>66.448622</td>\n",
       "      <td>77.875581</td>\n",
       "    </tr>\n",
       "    <tr>\n",
       "      <th>2</th>\n",
       "      <td>Natural gas - transmission and storage</td>\n",
       "      <td>57.373689</td>\n",
       "      <td>58.097424</td>\n",
       "      <td>58.183471</td>\n",
       "      <td>56.817203</td>\n",
       "      <td>55.561758</td>\n",
       "      <td>54.050220</td>\n",
       "      <td>52.393488</td>\n",
       "      <td>50.652329</td>\n",
       "      <td>48.247107</td>\n",
       "      <td>...</td>\n",
       "      <td>30.500001</td>\n",
       "      <td>29.489525</td>\n",
       "      <td>29.399671</td>\n",
       "      <td>31.168147</td>\n",
       "      <td>32.564333</td>\n",
       "      <td>34.365987</td>\n",
       "      <td>34.824087</td>\n",
       "      <td>32.936551</td>\n",
       "      <td>35.298067</td>\n",
       "      <td>38.203354</td>\n",
       "    </tr>\n",
       "    <tr>\n",
       "      <th>3</th>\n",
       "      <td>Natural gas - processing</td>\n",
       "      <td>49.668872</td>\n",
       "      <td>48.403190</td>\n",
       "      <td>48.464687</td>\n",
       "      <td>47.370228</td>\n",
       "      <td>46.608733</td>\n",
       "      <td>42.746108</td>\n",
       "      <td>38.854782</td>\n",
       "      <td>37.765235</td>\n",
       "      <td>33.729173</td>\n",
       "      <td>...</td>\n",
       "      <td>28.619639</td>\n",
       "      <td>29.065045</td>\n",
       "      <td>29.065045</td>\n",
       "      <td>31.175378</td>\n",
       "      <td>31.990734</td>\n",
       "      <td>31.990734</td>\n",
       "      <td>33.215644</td>\n",
       "      <td>34.486819</td>\n",
       "      <td>35.195582</td>\n",
       "      <td>37.227822</td>\n",
       "    </tr>\n",
       "    <tr>\n",
       "      <th>4</th>\n",
       "      <td>Natural gas - distribution</td>\n",
       "      <td>45.539083</td>\n",
       "      <td>44.926549</td>\n",
       "      <td>43.826610</td>\n",
       "      <td>43.376735</td>\n",
       "      <td>43.708933</td>\n",
       "      <td>40.541036</td>\n",
       "      <td>38.358858</td>\n",
       "      <td>37.385076</td>\n",
       "      <td>36.218305</td>\n",
       "      <td>...</td>\n",
       "      <td>16.142756</td>\n",
       "      <td>14.896991</td>\n",
       "      <td>14.801318</td>\n",
       "      <td>14.658864</td>\n",
       "      <td>14.507867</td>\n",
       "      <td>14.360108</td>\n",
       "      <td>14.346991</td>\n",
       "      <td>14.235324</td>\n",
       "      <td>14.136092</td>\n",
       "      <td>14.013492</td>\n",
       "    </tr>\n",
       "  </tbody>\n",
       "</table>\n",
       "<p>5 rows × 31 columns</p>\n",
       "</div>"
      ],
      "text/plain": [
       "  Emissions, Natural Gas and Petroleum Systems, MMT CO2 eq.       1990  \\\n",
       "0                           Natural gas - production         61.813243   \n",
       "1                     Petroleum systems - production         51.179228   \n",
       "2             Natural gas - transmission and storage         57.373689   \n",
       "3                           Natural gas - processing         49.668872   \n",
       "4                         Natural gas - distribution         45.539083   \n",
       "\n",
       "        1991       1992       1993       1994       1995       1996  \\\n",
       "0  65.587332  65.615797  69.990753  72.511494  70.426469  72.992806   \n",
       "1  51.367904  49.909665  48.054060  47.990545  48.075870  48.452862   \n",
       "2  58.097424  58.183471  56.817203  55.561758  54.050220  52.393488   \n",
       "3  48.403190  48.464687  47.370228  46.608733  42.746108  38.854782   \n",
       "4  44.926549  43.826610  43.376735  43.708933  40.541036  38.358858   \n",
       "\n",
       "        1997       1998  ...       2010       2011       2012       2013  \\\n",
       "0  75.427258  75.950120  ...  96.827460  98.075644  98.634970  99.259742   \n",
       "1  48.051780  47.116114  ...  44.244163  46.081658  49.286424  56.328106   \n",
       "2  50.652329  48.247107  ...  30.500001  29.489525  29.399671  31.168147   \n",
       "3  37.765235  33.729173  ...  28.619639  29.065045  29.065045  31.175378   \n",
       "4  37.385076  36.218305  ...  16.142756  14.896991  14.801318  14.658864   \n",
       "\n",
       "        2014       2015       2016       2017        2018        2019  \n",
       "0  96.982835  96.936525  94.135098  96.616064  100.615165  104.653986  \n",
       "1  62.167786  64.564571  54.360142  57.549067   66.448622   77.875581  \n",
       "2  32.564333  34.365987  34.824087  32.936551   35.298067   38.203354  \n",
       "3  31.990734  31.990734  33.215644  34.486819   35.195582   37.227822  \n",
       "4  14.507867  14.360108  14.346991  14.235324   14.136092   14.013492  \n",
       "\n",
       "[5 rows x 31 columns]"
      ]
     },
     "execution_count": 18,
     "metadata": {},
     "output_type": "execute_result"
    }
   ],
   "source": [
    "data_3.head()"
   ]
  },
  {
   "cell_type": "code",
   "execution_count": 21,
   "metadata": {},
   "outputs": [
    {
     "data": {
      "text/plain": [
       "Emissions, Natural Gas and Petroleum Systems, MMT CO2 eq.\n",
       "Natural gas - production                  0\n",
       "Petroleum systems - production            0\n",
       "Natural gas - transmission and storage    0\n",
       "Natural gas - processing                  0\n",
       "Natural gas - distribution                0\n",
       "Abandoned oil and gas wells               0\n",
       "Petroleum - crude oil refining            0\n",
       "Petroleum systems - exploration           0\n",
       "Natural gas - exploration                 0\n",
       "Petroleum - crude oil transportation      0\n",
       "Total                                     0\n",
       "dtype: int64"
      ]
     },
     "execution_count": 21,
     "metadata": {},
     "output_type": "execute_result"
    }
   ],
   "source": [
    "df3 = data_3.set_index('Emissions, Natural Gas and Petroleum Systems, MMT CO2 eq.').T\n",
    "\n",
    "df3.isna().sum()"
   ]
  },
  {
   "cell_type": "code",
   "execution_count": 23,
   "metadata": {},
   "outputs": [],
   "source": [
    "df3 = df3.reset_index()\n",
    "df3.rename(columns = {'index':'years'},inplace=True)"
   ]
  },
  {
   "cell_type": "code",
   "execution_count": 25,
   "metadata": {},
   "outputs": [
    {
     "data": {
      "text/html": [
       "<div>\n",
       "<style scoped>\n",
       "    .dataframe tbody tr th:only-of-type {\n",
       "        vertical-align: middle;\n",
       "    }\n",
       "\n",
       "    .dataframe tbody tr th {\n",
       "        vertical-align: top;\n",
       "    }\n",
       "\n",
       "    .dataframe thead th {\n",
       "        text-align: right;\n",
       "    }\n",
       "</style>\n",
       "<table border=\"1\" class=\"dataframe\">\n",
       "  <thead>\n",
       "    <tr style=\"text-align: right;\">\n",
       "      <th>Emissions, Natural Gas and Petroleum Systems, MMT CO2 eq.</th>\n",
       "      <th>years</th>\n",
       "      <th>Natural gas - production</th>\n",
       "      <th>Petroleum systems - production</th>\n",
       "      <th>Natural gas - transmission and storage</th>\n",
       "      <th>Natural gas - processing</th>\n",
       "      <th>Natural gas - distribution</th>\n",
       "      <th>Abandoned oil and gas wells</th>\n",
       "      <th>Petroleum - crude oil refining</th>\n",
       "      <th>Petroleum systems - exploration</th>\n",
       "      <th>Natural gas - exploration</th>\n",
       "      <th>Petroleum - crude oil transportation</th>\n",
       "      <th>Total</th>\n",
       "    </tr>\n",
       "  </thead>\n",
       "  <tbody>\n",
       "    <tr>\n",
       "      <th>0</th>\n",
       "      <td>1990</td>\n",
       "      <td>61.813243</td>\n",
       "      <td>51.179228</td>\n",
       "      <td>57.373689</td>\n",
       "      <td>49.668872</td>\n",
       "      <td>45.539083</td>\n",
       "      <td>6.779514</td>\n",
       "      <td>3.973464</td>\n",
       "      <td>3.281818</td>\n",
       "      <td>4.591988</td>\n",
       "      <td>0.164692</td>\n",
       "      <td>284.365591</td>\n",
       "    </tr>\n",
       "    <tr>\n",
       "      <th>1</th>\n",
       "      <td>1991</td>\n",
       "      <td>65.587332</td>\n",
       "      <td>51.367904</td>\n",
       "      <td>58.097424</td>\n",
       "      <td>48.403190</td>\n",
       "      <td>44.926549</td>\n",
       "      <td>6.826980</td>\n",
       "      <td>3.941507</td>\n",
       "      <td>3.285784</td>\n",
       "      <td>4.359666</td>\n",
       "      <td>0.163647</td>\n",
       "      <td>286.959983</td>\n",
       "    </tr>\n",
       "    <tr>\n",
       "      <th>2</th>\n",
       "      <td>1992</td>\n",
       "      <td>65.615797</td>\n",
       "      <td>49.909665</td>\n",
       "      <td>58.183471</td>\n",
       "      <td>48.464687</td>\n",
       "      <td>43.826610</td>\n",
       "      <td>6.879113</td>\n",
       "      <td>3.985011</td>\n",
       "      <td>3.324524</td>\n",
       "      <td>3.256363</td>\n",
       "      <td>0.158272</td>\n",
       "      <td>283.603513</td>\n",
       "    </tr>\n",
       "    <tr>\n",
       "      <th>3</th>\n",
       "      <td>1993</td>\n",
       "      <td>69.990753</td>\n",
       "      <td>48.054060</td>\n",
       "      <td>56.817203</td>\n",
       "      <td>47.370228</td>\n",
       "      <td>43.376735</td>\n",
       "      <td>6.922596</td>\n",
       "      <td>4.033753</td>\n",
       "      <td>3.261639</td>\n",
       "      <td>4.184088</td>\n",
       "      <td>0.155563</td>\n",
       "      <td>284.166618</td>\n",
       "    </tr>\n",
       "    <tr>\n",
       "      <th>4</th>\n",
       "      <td>1994</td>\n",
       "      <td>72.511494</td>\n",
       "      <td>47.990545</td>\n",
       "      <td>55.561758</td>\n",
       "      <td>46.608733</td>\n",
       "      <td>43.708933</td>\n",
       "      <td>6.963586</td>\n",
       "      <td>4.108824</td>\n",
       "      <td>2.791711</td>\n",
       "      <td>4.107490</td>\n",
       "      <td>0.152720</td>\n",
       "      <td>284.505793</td>\n",
       "    </tr>\n",
       "  </tbody>\n",
       "</table>\n",
       "</div>"
      ],
      "text/plain": [
       "Emissions, Natural Gas and Petroleum Systems, MMT CO2 eq. years  \\\n",
       "0                                                          1990   \n",
       "1                                                          1991   \n",
       "2                                                          1992   \n",
       "3                                                          1993   \n",
       "4                                                          1994   \n",
       "\n",
       "Emissions, Natural Gas and Petroleum Systems, MMT CO2 eq.  Natural gas - production  \\\n",
       "0                                                                         61.813243   \n",
       "1                                                                         65.587332   \n",
       "2                                                                         65.615797   \n",
       "3                                                                         69.990753   \n",
       "4                                                                         72.511494   \n",
       "\n",
       "Emissions, Natural Gas and Petroleum Systems, MMT CO2 eq.  Petroleum systems - production  \\\n",
       "0                                                                               51.179228   \n",
       "1                                                                               51.367904   \n",
       "2                                                                               49.909665   \n",
       "3                                                                               48.054060   \n",
       "4                                                                               47.990545   \n",
       "\n",
       "Emissions, Natural Gas and Petroleum Systems, MMT CO2 eq.  Natural gas - transmission and storage  \\\n",
       "0                                                                                       57.373689   \n",
       "1                                                                                       58.097424   \n",
       "2                                                                                       58.183471   \n",
       "3                                                                                       56.817203   \n",
       "4                                                                                       55.561758   \n",
       "\n",
       "Emissions, Natural Gas and Petroleum Systems, MMT CO2 eq.  Natural gas - processing  \\\n",
       "0                                                                         49.668872   \n",
       "1                                                                         48.403190   \n",
       "2                                                                         48.464687   \n",
       "3                                                                         47.370228   \n",
       "4                                                                         46.608733   \n",
       "\n",
       "Emissions, Natural Gas and Petroleum Systems, MMT CO2 eq.  Natural gas - distribution  \\\n",
       "0                                                                           45.539083   \n",
       "1                                                                           44.926549   \n",
       "2                                                                           43.826610   \n",
       "3                                                                           43.376735   \n",
       "4                                                                           43.708933   \n",
       "\n",
       "Emissions, Natural Gas and Petroleum Systems, MMT CO2 eq.  Abandoned oil and gas wells  \\\n",
       "0                                                                             6.779514   \n",
       "1                                                                             6.826980   \n",
       "2                                                                             6.879113   \n",
       "3                                                                             6.922596   \n",
       "4                                                                             6.963586   \n",
       "\n",
       "Emissions, Natural Gas and Petroleum Systems, MMT CO2 eq.  Petroleum - crude oil refining  \\\n",
       "0                                                                                3.973464   \n",
       "1                                                                                3.941507   \n",
       "2                                                                                3.985011   \n",
       "3                                                                                4.033753   \n",
       "4                                                                                4.108824   \n",
       "\n",
       "Emissions, Natural Gas and Petroleum Systems, MMT CO2 eq.  Petroleum systems - exploration  \\\n",
       "0                                                                                 3.281818   \n",
       "1                                                                                 3.285784   \n",
       "2                                                                                 3.324524   \n",
       "3                                                                                 3.261639   \n",
       "4                                                                                 2.791711   \n",
       "\n",
       "Emissions, Natural Gas and Petroleum Systems, MMT CO2 eq.  Natural gas - exploration  \\\n",
       "0                                                                           4.591988   \n",
       "1                                                                           4.359666   \n",
       "2                                                                           3.256363   \n",
       "3                                                                           4.184088   \n",
       "4                                                                           4.107490   \n",
       "\n",
       "Emissions, Natural Gas and Petroleum Systems, MMT CO2 eq.  Petroleum - crude oil transportation  \\\n",
       "0                                                                                      0.164692   \n",
       "1                                                                                      0.163647   \n",
       "2                                                                                      0.158272   \n",
       "3                                                                                      0.155563   \n",
       "4                                                                                      0.152720   \n",
       "\n",
       "Emissions, Natural Gas and Petroleum Systems, MMT CO2 eq.       Total  \n",
       "0                                                          284.365591  \n",
       "1                                                          286.959983  \n",
       "2                                                          283.603513  \n",
       "3                                                          284.166618  \n",
       "4                                                          284.505793  "
      ]
     },
     "execution_count": 25,
     "metadata": {},
     "output_type": "execute_result"
    }
   ],
   "source": [
    "df3.head()"
   ]
  },
  {
   "cell_type": "code",
   "execution_count": 36,
   "metadata": {},
   "outputs": [
    {
     "data": {
      "image/png": "[encoded data removed]",
      "text/plain": [
       "<Figure size 1152x864 with 1 Axes>"
      ]
     },
     "metadata": {
      "needs_background": "light"
     },
     "output_type": "display_data"
    }
   ],
   "source": [
    "plt.figure(figsize=(16,12))\n",
    "plt.plot(df3.iloc[:,0],df3.iloc[:,1:3])\n",
    "\n",
    "plt.xticks(rotation=45)\n",
    "plt.grid()\n",
    "plt.title('Production of Natrual Gas v/s Petroleum',fontdict={'fontstyle':'normal','weight':'bold','size':22})\n",
    "plt.legend(['Natural Gas','Petrol'])\n",
    "plt.show()"
   ]
  },
  {
   "cell_type": "code",
   "execution_count": 38,
   "metadata": {},
   "outputs": [],
   "source": [
    "df3.to_csv('./clean data/petroleumVsNaturalGas.csv',index=False)"
   ]
  },
  {
   "cell_type": "code",
   "execution_count": 41,
   "metadata": {},
   "outputs": [
    {
     "name": "stdout",
     "output_type": "stream",
     "text": [
      "WARNING *** OLE2 inconsistency: SSCS size is 0 but SSAT size is non-zero\n"
     ]
    }
   ],
   "source": [
    "data = pd.read_excel('datafile.xlsx')"
   ]
  },
  {
   "cell_type": "code",
   "execution_count": 43,
   "metadata": {},
   "outputs": [
    {
     "data": {
      "text/html": [
       "<div>\n",
       "<style scoped>\n",
       "    .dataframe tbody tr th:only-of-type {\n",
       "        vertical-align: middle;\n",
       "    }\n",
       "\n",
       "    .dataframe tbody tr th {\n",
       "        vertical-align: top;\n",
       "    }\n",
       "\n",
       "    .dataframe thead th {\n",
       "        text-align: right;\n",
       "    }\n",
       "</style>\n",
       "<table border=\"1\" class=\"dataframe\">\n",
       "  <thead>\n",
       "    <tr style=\"text-align: right;\">\n",
       "      <th></th>\n",
       "      <th>State</th>\n",
       "      <th>City</th>\n",
       "      <th>Location</th>\n",
       "      <th>Type</th>\n",
       "      <th>Numbers of  monitoring days (n)</th>\n",
       "      <th>False</th>\n",
       "      <th>Standard Deviation</th>\n",
       "      <th>Percentage- exceedence(24 hourly)</th>\n",
       "      <th>Air Quality</th>\n",
       "    </tr>\n",
       "  </thead>\n",
       "  <tbody>\n",
       "    <tr>\n",
       "      <th>48</th>\n",
       "      <td>Delhi</td>\n",
       "      <td>Delhi</td>\n",
       "      <td>Mayapuri Industrial Area</td>\n",
       "      <td>Industrial</td>\n",
       "      <td>96</td>\n",
       "      <td>461</td>\n",
       "      <td>240</td>\n",
       "      <td>40</td>\n",
       "      <td>High</td>\n",
       "    </tr>\n",
       "    <tr>\n",
       "      <th>49</th>\n",
       "      <td>Delhi</td>\n",
       "      <td>Delhi</td>\n",
       "      <td>Shahzada Bagh</td>\n",
       "      <td>Industrial</td>\n",
       "      <td>78</td>\n",
       "      <td>378</td>\n",
       "      <td>183</td>\n",
       "      <td>26</td>\n",
       "      <td>High</td>\n",
       "    </tr>\n",
       "    <tr>\n",
       "      <th>50</th>\n",
       "      <td>Delhi</td>\n",
       "      <td>Delhi</td>\n",
       "      <td>Shahdara</td>\n",
       "      <td>Industrial</td>\n",
       "      <td>78</td>\n",
       "      <td>440</td>\n",
       "      <td>173</td>\n",
       "      <td>35</td>\n",
       "      <td>High</td>\n",
       "    </tr>\n",
       "    <tr>\n",
       "      <th>51</th>\n",
       "      <td>Delhi</td>\n",
       "      <td>Delhi</td>\n",
       "      <td>Sarojini Nagar</td>\n",
       "      <td>Residential and other</td>\n",
       "      <td>79</td>\n",
       "      <td>305</td>\n",
       "      <td>164</td>\n",
       "      <td>66</td>\n",
       "      <td>Critical</td>\n",
       "    </tr>\n",
       "    <tr>\n",
       "      <th>52</th>\n",
       "      <td>Delhi</td>\n",
       "      <td>Delhi</td>\n",
       "      <td>Town hall</td>\n",
       "      <td>Residential and other</td>\n",
       "      <td>95</td>\n",
       "      <td>476</td>\n",
       "      <td>224</td>\n",
       "      <td>92</td>\n",
       "      <td>Critical</td>\n",
       "    </tr>\n",
       "    <tr>\n",
       "      <th>53</th>\n",
       "      <td>Delhi</td>\n",
       "      <td>Delhi</td>\n",
       "      <td>Nizamuddin</td>\n",
       "      <td>Residential and other</td>\n",
       "      <td>72</td>\n",
       "      <td>347</td>\n",
       "      <td>181</td>\n",
       "      <td>81</td>\n",
       "      <td>Critical</td>\n",
       "    </tr>\n",
       "    <tr>\n",
       "      <th>54</th>\n",
       "      <td>Delhi</td>\n",
       "      <td>Delhi</td>\n",
       "      <td>Pritampura</td>\n",
       "      <td>Residential and other</td>\n",
       "      <td>63</td>\n",
       "      <td>322</td>\n",
       "      <td>166</td>\n",
       "      <td>80</td>\n",
       "      <td>Critical</td>\n",
       "    </tr>\n",
       "    <tr>\n",
       "      <th>55</th>\n",
       "      <td>Delhi</td>\n",
       "      <td>Delhi</td>\n",
       "      <td>Siri Fort</td>\n",
       "      <td>Residential and other</td>\n",
       "      <td>76</td>\n",
       "      <td>353</td>\n",
       "      <td>183</td>\n",
       "      <td>80</td>\n",
       "      <td>Critical</td>\n",
       "    </tr>\n",
       "    <tr>\n",
       "      <th>56</th>\n",
       "      <td>Delhi</td>\n",
       "      <td>Delhi</td>\n",
       "      <td>Janakpuri</td>\n",
       "      <td>Residential and other</td>\n",
       "      <td>70</td>\n",
       "      <td>348</td>\n",
       "      <td>152</td>\n",
       "      <td>79</td>\n",
       "      <td>Critical</td>\n",
       "    </tr>\n",
       "  </tbody>\n",
       "</table>\n",
       "</div>"
      ],
      "text/plain": [
       "    State   City                  Location                   Type  \\\n",
       "48  Delhi  Delhi  Mayapuri Industrial Area             Industrial   \n",
       "49  Delhi  Delhi             Shahzada Bagh             Industrial   \n",
       "50  Delhi  Delhi                  Shahdara             Industrial   \n",
       "51  Delhi  Delhi            Sarojini Nagar  Residential and other   \n",
       "52  Delhi  Delhi                 Town hall  Residential and other   \n",
       "53  Delhi  Delhi                Nizamuddin  Residential and other   \n",
       "54  Delhi  Delhi                Pritampura  Residential and other   \n",
       "55  Delhi  Delhi                 Siri Fort  Residential and other   \n",
       "56  Delhi  Delhi                 Janakpuri  Residential and other   \n",
       "\n",
       "    Numbers of  monitoring days (n)  False  Standard Deviation  \\\n",
       "48                               96    461                 240   \n",
       "49                               78    378                 183   \n",
       "50                               78    440                 173   \n",
       "51                               79    305                 164   \n",
       "52                               95    476                 224   \n",
       "53                               72    347                 181   \n",
       "54                               63    322                 166   \n",
       "55                               76    353                 183   \n",
       "56                               70    348                 152   \n",
       "\n",
       "    Percentage- exceedence(24 hourly) Air Quality  \n",
       "48                                 40        High  \n",
       "49                                 26        High  \n",
       "50                                 35        High  \n",
       "51                                 66    Critical  \n",
       "52                                 92    Critical  \n",
       "53                                 81    Critical  \n",
       "54                                 80    Critical  \n",
       "55                                 80    Critical  \n",
       "56                                 79    Critical  "
      ]
     },
     "execution_count": 43,
     "metadata": {},
     "output_type": "execute_result"
    }
   ],
   "source": [
    "data.loc[data['State']=='Delhi']"
   ]
  },
  {
   "cell_type": "code",
   "execution_count": 44,
   "metadata": {},
   "outputs": [
    {
     "name": "stdout",
     "output_type": "stream",
     "text": [
      "WARNING *** OLE2 inconsistency: SSCS size is 0 but SSAT size is non-zero\n"
     ]
    },
    {
     "data": {
      "text/html": [
       "<div>\n",
       "<style scoped>\n",
       "    .dataframe tbody tr th:only-of-type {\n",
       "        vertical-align: middle;\n",
       "    }\n",
       "\n",
       "    .dataframe tbody tr th {\n",
       "        vertical-align: top;\n",
       "    }\n",
       "\n",
       "    .dataframe thead th {\n",
       "        text-align: right;\n",
       "    }\n",
       "</style>\n",
       "<table border=\"1\" class=\"dataframe\">\n",
       "  <thead>\n",
       "    <tr style=\"text-align: right;\">\n",
       "      <th></th>\n",
       "      <th>Stn Code</th>\n",
       "      <th>Sampling Date</th>\n",
       "      <th>State</th>\n",
       "      <th>City/Town/Village/Area</th>\n",
       "      <th>Agency</th>\n",
       "      <th>Type of Location</th>\n",
       "      <th>SO2</th>\n",
       "      <th>NO2</th>\n",
       "      <th>RSPM/PM10</th>\n",
       "      <th>SPM</th>\n",
       "    </tr>\n",
       "  </thead>\n",
       "  <tbody>\n",
       "    <tr>\n",
       "      <th>0</th>\n",
       "      <td>59</td>\n",
       "      <td>7/1/1988</td>\n",
       "      <td>Delhi</td>\n",
       "      <td>Delhi</td>\n",
       "      <td>Central Pollution Control Board</td>\n",
       "      <td>Residential, Rural and other Areas</td>\n",
       "      <td>NaN</td>\n",
       "      <td>NaN</td>\n",
       "      <td>NaN</td>\n",
       "      <td>114.0</td>\n",
       "    </tr>\n",
       "    <tr>\n",
       "      <th>1</th>\n",
       "      <td>57</td>\n",
       "      <td>8/2/1988</td>\n",
       "      <td>Delhi</td>\n",
       "      <td>Delhi</td>\n",
       "      <td>Central Pollution Control Board</td>\n",
       "      <td>Industrial Area</td>\n",
       "      <td>NaN</td>\n",
       "      <td>NaN</td>\n",
       "      <td>NaN</td>\n",
       "      <td>169.0</td>\n",
       "    </tr>\n",
       "    <tr>\n",
       "      <th>2</th>\n",
       "      <td>60</td>\n",
       "      <td>8/2/1988</td>\n",
       "      <td>Delhi</td>\n",
       "      <td>Delhi</td>\n",
       "      <td>Central Pollution Control Board</td>\n",
       "      <td>Residential, Rural and other Areas</td>\n",
       "      <td>NaN</td>\n",
       "      <td>NaN</td>\n",
       "      <td>NaN</td>\n",
       "      <td>130.0</td>\n",
       "    </tr>\n",
       "    <tr>\n",
       "      <th>3</th>\n",
       "      <td>55</td>\n",
       "      <td>8/3/1988</td>\n",
       "      <td>Delhi</td>\n",
       "      <td>Delhi</td>\n",
       "      <td>Central Pollution Control Board</td>\n",
       "      <td>Industrial Area</td>\n",
       "      <td>NaN</td>\n",
       "      <td>NaN</td>\n",
       "      <td>NaN</td>\n",
       "      <td>133.0</td>\n",
       "    </tr>\n",
       "    <tr>\n",
       "      <th>4</th>\n",
       "      <td>56</td>\n",
       "      <td>8/1/1988</td>\n",
       "      <td>Delhi</td>\n",
       "      <td>Delhi</td>\n",
       "      <td>Central Pollution Control Board</td>\n",
       "      <td>Industrial Area</td>\n",
       "      <td>NaN</td>\n",
       "      <td>NaN</td>\n",
       "      <td>NaN</td>\n",
       "      <td>160.0</td>\n",
       "    </tr>\n",
       "    <tr>\n",
       "      <th>5</th>\n",
       "      <td>59</td>\n",
       "      <td>8/1/1988</td>\n",
       "      <td>Delhi</td>\n",
       "      <td>Delhi</td>\n",
       "      <td>Central Pollution Control Board</td>\n",
       "      <td>Residential, Rural and other Areas</td>\n",
       "      <td>NaN</td>\n",
       "      <td>NaN</td>\n",
       "      <td>NaN</td>\n",
       "      <td>126.0</td>\n",
       "    </tr>\n",
       "    <tr>\n",
       "      <th>6</th>\n",
       "      <td>57</td>\n",
       "      <td>9/3/1988</td>\n",
       "      <td>Delhi</td>\n",
       "      <td>Delhi</td>\n",
       "      <td>Central Pollution Control Board</td>\n",
       "      <td>Industrial Area</td>\n",
       "      <td>13.8</td>\n",
       "      <td>29.9</td>\n",
       "      <td>NaN</td>\n",
       "      <td>NaN</td>\n",
       "    </tr>\n",
       "    <tr>\n",
       "      <th>7</th>\n",
       "      <td>60</td>\n",
       "      <td>9/2/1988</td>\n",
       "      <td>Delhi</td>\n",
       "      <td>Delhi</td>\n",
       "      <td>Central Pollution Control Board</td>\n",
       "      <td>Residential, Rural and other Areas</td>\n",
       "      <td>3.1</td>\n",
       "      <td>18.5</td>\n",
       "      <td>NaN</td>\n",
       "      <td>NaN</td>\n",
       "    </tr>\n",
       "    <tr>\n",
       "      <th>8</th>\n",
       "      <td>58</td>\n",
       "      <td>9/1/1988</td>\n",
       "      <td>Delhi</td>\n",
       "      <td>Delhi</td>\n",
       "      <td>Central Pollution Control Board</td>\n",
       "      <td>Industrial Area</td>\n",
       "      <td>16.2</td>\n",
       "      <td>16.0</td>\n",
       "      <td>NaN</td>\n",
       "      <td>NaN</td>\n",
       "    </tr>\n",
       "    <tr>\n",
       "      <th>9</th>\n",
       "      <td>55</td>\n",
       "      <td>9/1/1988</td>\n",
       "      <td>Delhi</td>\n",
       "      <td>Delhi</td>\n",
       "      <td>Central Pollution Control Board</td>\n",
       "      <td>Industrial Area</td>\n",
       "      <td>10.4</td>\n",
       "      <td>11.6</td>\n",
       "      <td>NaN</td>\n",
       "      <td>NaN</td>\n",
       "    </tr>\n",
       "    <tr>\n",
       "      <th>10</th>\n",
       "      <td>56</td>\n",
       "      <td>9/3/1988</td>\n",
       "      <td>Delhi</td>\n",
       "      <td>Delhi</td>\n",
       "      <td>Central Pollution Control Board</td>\n",
       "      <td>Industrial Area</td>\n",
       "      <td>3.2</td>\n",
       "      <td>28.2</td>\n",
       "      <td>NaN</td>\n",
       "      <td>NaN</td>\n",
       "    </tr>\n",
       "    <tr>\n",
       "      <th>11</th>\n",
       "      <td>59</td>\n",
       "      <td>9/3/1988</td>\n",
       "      <td>Delhi</td>\n",
       "      <td>Delhi</td>\n",
       "      <td>Central Pollution Control Board</td>\n",
       "      <td>Residential, Rural and other Areas</td>\n",
       "      <td>22.8</td>\n",
       "      <td>30.8</td>\n",
       "      <td>NaN</td>\n",
       "      <td>NaN</td>\n",
       "    </tr>\n",
       "    <tr>\n",
       "      <th>12</th>\n",
       "      <td>57</td>\n",
       "      <td>10/1/1988</td>\n",
       "      <td>Delhi</td>\n",
       "      <td>Delhi</td>\n",
       "      <td>Central Pollution Control Board</td>\n",
       "      <td>Industrial Area</td>\n",
       "      <td>23.8</td>\n",
       "      <td>27.1</td>\n",
       "      <td>NaN</td>\n",
       "      <td>NaN</td>\n",
       "    </tr>\n",
       "    <tr>\n",
       "      <th>13</th>\n",
       "      <td>60</td>\n",
       "      <td>10/3/1988</td>\n",
       "      <td>Delhi</td>\n",
       "      <td>Delhi</td>\n",
       "      <td>Central Pollution Control Board</td>\n",
       "      <td>Residential, Rural and other Areas</td>\n",
       "      <td>1.4</td>\n",
       "      <td>13.4</td>\n",
       "      <td>NaN</td>\n",
       "      <td>NaN</td>\n",
       "    </tr>\n",
       "    <tr>\n",
       "      <th>14</th>\n",
       "      <td>58</td>\n",
       "      <td>10/3/1988</td>\n",
       "      <td>Delhi</td>\n",
       "      <td>Delhi</td>\n",
       "      <td>Central Pollution Control Board</td>\n",
       "      <td>Industrial Area</td>\n",
       "      <td>18.8</td>\n",
       "      <td>17.5</td>\n",
       "      <td>NaN</td>\n",
       "      <td>NaN</td>\n",
       "    </tr>\n",
       "    <tr>\n",
       "      <th>15</th>\n",
       "      <td>56</td>\n",
       "      <td>10/1/1988</td>\n",
       "      <td>Delhi</td>\n",
       "      <td>Delhi</td>\n",
       "      <td>Central Pollution Control Board</td>\n",
       "      <td>Industrial Area</td>\n",
       "      <td>5.9</td>\n",
       "      <td>24.4</td>\n",
       "      <td>NaN</td>\n",
       "      <td>NaN</td>\n",
       "    </tr>\n",
       "    <tr>\n",
       "      <th>16</th>\n",
       "      <td>59</td>\n",
       "      <td>10/1/1988</td>\n",
       "      <td>Delhi</td>\n",
       "      <td>Delhi</td>\n",
       "      <td>Central Pollution Control Board</td>\n",
       "      <td>Residential, Rural and other Areas</td>\n",
       "      <td>12.5</td>\n",
       "      <td>20.2</td>\n",
       "      <td>NaN</td>\n",
       "      <td>NaN</td>\n",
       "    </tr>\n",
       "    <tr>\n",
       "      <th>17</th>\n",
       "      <td>57</td>\n",
       "      <td>12/1/1988</td>\n",
       "      <td>Delhi</td>\n",
       "      <td>Delhi</td>\n",
       "      <td>Central Pollution Control Board</td>\n",
       "      <td>Industrial Area</td>\n",
       "      <td>NaN</td>\n",
       "      <td>NaN</td>\n",
       "      <td>NaN</td>\n",
       "      <td>569.0</td>\n",
       "    </tr>\n",
       "    <tr>\n",
       "      <th>18</th>\n",
       "      <td>60</td>\n",
       "      <td>12/3/1988</td>\n",
       "      <td>Delhi</td>\n",
       "      <td>Delhi</td>\n",
       "      <td>Central Pollution Control Board</td>\n",
       "      <td>Residential, Rural and other Areas</td>\n",
       "      <td>NaN</td>\n",
       "      <td>NaN</td>\n",
       "      <td>NaN</td>\n",
       "      <td>309.0</td>\n",
       "    </tr>\n",
       "    <tr>\n",
       "      <th>19</th>\n",
       "      <td>58</td>\n",
       "      <td>12/3/1988</td>\n",
       "      <td>Delhi</td>\n",
       "      <td>Delhi</td>\n",
       "      <td>Central Pollution Control Board</td>\n",
       "      <td>Industrial Area</td>\n",
       "      <td>NaN</td>\n",
       "      <td>NaN</td>\n",
       "      <td>NaN</td>\n",
       "      <td>354.0</td>\n",
       "    </tr>\n",
       "    <tr>\n",
       "      <th>20</th>\n",
       "      <td>55</td>\n",
       "      <td>12/2/1988</td>\n",
       "      <td>Delhi</td>\n",
       "      <td>Delhi</td>\n",
       "      <td>Central Pollution Control Board</td>\n",
       "      <td>Industrial Area</td>\n",
       "      <td>NaN</td>\n",
       "      <td>NaN</td>\n",
       "      <td>NaN</td>\n",
       "      <td>459.0</td>\n",
       "    </tr>\n",
       "    <tr>\n",
       "      <th>21</th>\n",
       "      <td>56</td>\n",
       "      <td>12/2/1988</td>\n",
       "      <td>Delhi</td>\n",
       "      <td>Delhi</td>\n",
       "      <td>Central Pollution Control Board</td>\n",
       "      <td>Industrial Area</td>\n",
       "      <td>NaN</td>\n",
       "      <td>NaN</td>\n",
       "      <td>NaN</td>\n",
       "      <td>443.0</td>\n",
       "    </tr>\n",
       "    <tr>\n",
       "      <th>22</th>\n",
       "      <td>59</td>\n",
       "      <td>12/3/1988</td>\n",
       "      <td>Delhi</td>\n",
       "      <td>Delhi</td>\n",
       "      <td>Central Pollution Control Board</td>\n",
       "      <td>Residential, Rural and other Areas</td>\n",
       "      <td>NaN</td>\n",
       "      <td>NaN</td>\n",
       "      <td>NaN</td>\n",
       "      <td>366.0</td>\n",
       "    </tr>\n",
       "  </tbody>\n",
       "</table>\n",
       "</div>"
      ],
      "text/plain": [
       "    Stn Code Sampling Date  State City/Town/Village/Area  \\\n",
       "0         59      7/1/1988  Delhi                  Delhi   \n",
       "1         57      8/2/1988  Delhi                  Delhi   \n",
       "2         60      8/2/1988  Delhi                  Delhi   \n",
       "3         55      8/3/1988  Delhi                  Delhi   \n",
       "4         56      8/1/1988  Delhi                  Delhi   \n",
       "5         59      8/1/1988  Delhi                  Delhi   \n",
       "6         57      9/3/1988  Delhi                  Delhi   \n",
       "7         60      9/2/1988  Delhi                  Delhi   \n",
       "8         58      9/1/1988  Delhi                  Delhi   \n",
       "9         55      9/1/1988  Delhi                  Delhi   \n",
       "10        56      9/3/1988  Delhi                  Delhi   \n",
       "11        59      9/3/1988  Delhi                  Delhi   \n",
       "12        57     10/1/1988  Delhi                  Delhi   \n",
       "13        60     10/3/1988  Delhi                  Delhi   \n",
       "14        58     10/3/1988  Delhi                  Delhi   \n",
       "15        56     10/1/1988  Delhi                  Delhi   \n",
       "16        59     10/1/1988  Delhi                  Delhi   \n",
       "17        57     12/1/1988  Delhi                  Delhi   \n",
       "18        60     12/3/1988  Delhi                  Delhi   \n",
       "19        58     12/3/1988  Delhi                  Delhi   \n",
       "20        55     12/2/1988  Delhi                  Delhi   \n",
       "21        56     12/2/1988  Delhi                  Delhi   \n",
       "22        59     12/3/1988  Delhi                  Delhi   \n",
       "\n",
       "                             Agency                    Type of Location   SO2  \\\n",
       "0   Central Pollution Control Board  Residential, Rural and other Areas   NaN   \n",
       "1   Central Pollution Control Board                     Industrial Area   NaN   \n",
       "2   Central Pollution Control Board  Residential, Rural and other Areas   NaN   \n",
       "3   Central Pollution Control Board                     Industrial Area   NaN   \n",
       "4   Central Pollution Control Board                     Industrial Area   NaN   \n",
       "5   Central Pollution Control Board  Residential, Rural and other Areas   NaN   \n",
       "6   Central Pollution Control Board                     Industrial Area  13.8   \n",
       "7   Central Pollution Control Board  Residential, Rural and other Areas   3.1   \n",
       "8   Central Pollution Control Board                     Industrial Area  16.2   \n",
       "9   Central Pollution Control Board                     Industrial Area  10.4   \n",
       "10  Central Pollution Control Board                     Industrial Area   3.2   \n",
       "11  Central Pollution Control Board  Residential, Rural and other Areas  22.8   \n",
       "12  Central Pollution Control Board                     Industrial Area  23.8   \n",
       "13  Central Pollution Control Board  Residential, Rural and other Areas   1.4   \n",
       "14  Central Pollution Control Board                     Industrial Area  18.8   \n",
       "15  Central Pollution Control Board                     Industrial Area   5.9   \n",
       "16  Central Pollution Control Board  Residential, Rural and other Areas  12.5   \n",
       "17  Central Pollution Control Board                     Industrial Area   NaN   \n",
       "18  Central Pollution Control Board  Residential, Rural and other Areas   NaN   \n",
       "19  Central Pollution Control Board                     Industrial Area   NaN   \n",
       "20  Central Pollution Control Board                     Industrial Area   NaN   \n",
       "21  Central Pollution Control Board                     Industrial Area   NaN   \n",
       "22  Central Pollution Control Board  Residential, Rural and other Areas   NaN   \n",
       "\n",
       "     NO2  RSPM/PM10    SPM  \n",
       "0    NaN        NaN  114.0  \n",
       "1    NaN        NaN  169.0  \n",
       "2    NaN        NaN  130.0  \n",
       "3    NaN        NaN  133.0  \n",
       "4    NaN        NaN  160.0  \n",
       "5    NaN        NaN  126.0  \n",
       "6   29.9        NaN    NaN  \n",
       "7   18.5        NaN    NaN  \n",
       "8   16.0        NaN    NaN  \n",
       "9   11.6        NaN    NaN  \n",
       "10  28.2        NaN    NaN  \n",
       "11  30.8        NaN    NaN  \n",
       "12  27.1        NaN    NaN  \n",
       "13  13.4        NaN    NaN  \n",
       "14  17.5        NaN    NaN  \n",
       "15  24.4        NaN    NaN  \n",
       "16  20.2        NaN    NaN  \n",
       "17   NaN        NaN  569.0  \n",
       "18   NaN        NaN  309.0  \n",
       "19   NaN        NaN  354.0  \n",
       "20   NaN        NaN  459.0  \n",
       "21   NaN        NaN  443.0  \n",
       "22   NaN        NaN  366.0  "
      ]
     },
     "execution_count": 44,
     "metadata": {},
     "output_type": "execute_result"
    }
   ],
   "source": [
    "pd.read_excel('datafile.xls')"
   ]
  },
  {
   "cell_type": "code",
   "execution_count": 51,
   "metadata": {},
   "outputs": [
    {
     "name": "stdout",
     "output_type": "stream",
     "text": [
      "<_io.TextIOWrapper name='dataair.csv' mode='r' encoding='cp1252'>\n"
     ]
    }
   ],
   "source": [
    "with open('dataair.csv') as f:\n",
    "    print(f)"
   ]
  },
  {
   "cell_type": "code",
   "execution_count": 2,
   "metadata": {},
   "outputs": [
    {
     "name": "stderr",
     "output_type": "stream",
     "text": [
      "c:\\users\\asus\\appdata\\local\\programs\\python\\python38\\lib\\site-packages\\IPython\\core\\interactiveshell.py:3062: DtypeWarning: Columns (0) have mixed types.Specify dtype option on import or set low_memory=False.\n",
      "  has_raised = await self.run_ast_nodes(code_ast.body, cell_name,\n"
     ]
    }
   ],
   "source": [
    "df = pd.read_csv('dataair.csv',encoding='cp1252')"
   ]
  },
  {
   "cell_type": "code",
   "execution_count": 3,
   "metadata": {},
   "outputs": [
    {
     "data": {
      "text/html": [
       "<div>\n",
       "<style scoped>\n",
       "    .dataframe tbody tr th:only-of-type {\n",
       "        vertical-align: middle;\n",
       "    }\n",
       "\n",
       "    .dataframe tbody tr th {\n",
       "        vertical-align: top;\n",
       "    }\n",
       "\n",
       "    .dataframe thead th {\n",
       "        text-align: right;\n",
       "    }\n",
       "</style>\n",
       "<table border=\"1\" class=\"dataframe\">\n",
       "  <thead>\n",
       "    <tr style=\"text-align: right;\">\n",
       "      <th></th>\n",
       "      <th>stn_code</th>\n",
       "      <th>sampling_date</th>\n",
       "      <th>state</th>\n",
       "      <th>location</th>\n",
       "      <th>agency</th>\n",
       "      <th>type</th>\n",
       "      <th>so2</th>\n",
       "      <th>no2</th>\n",
       "      <th>rspm</th>\n",
       "      <th>spm</th>\n",
       "      <th>location_monitoring_station</th>\n",
       "      <th>pm2_5</th>\n",
       "      <th>date</th>\n",
       "    </tr>\n",
       "  </thead>\n",
       "  <tbody>\n",
       "    <tr>\n",
       "      <th>0</th>\n",
       "      <td>150</td>\n",
       "      <td>February - M021990</td>\n",
       "      <td>Andhra Pradesh</td>\n",
       "      <td>Hyderabad</td>\n",
       "      <td>NaN</td>\n",
       "      <td>Residential, Rural and other Areas</td>\n",
       "      <td>4.8</td>\n",
       "      <td>17.4</td>\n",
       "      <td>NaN</td>\n",
       "      <td>NaN</td>\n",
       "      <td>NaN</td>\n",
       "      <td>NaN</td>\n",
       "      <td>1990-02-01</td>\n",
       "    </tr>\n",
       "    <tr>\n",
       "      <th>1</th>\n",
       "      <td>151</td>\n",
       "      <td>February - M021990</td>\n",
       "      <td>Andhra Pradesh</td>\n",
       "      <td>Hyderabad</td>\n",
       "      <td>NaN</td>\n",
       "      <td>Industrial Area</td>\n",
       "      <td>3.1</td>\n",
       "      <td>7.0</td>\n",
       "      <td>NaN</td>\n",
       "      <td>NaN</td>\n",
       "      <td>NaN</td>\n",
       "      <td>NaN</td>\n",
       "      <td>1990-02-01</td>\n",
       "    </tr>\n",
       "    <tr>\n",
       "      <th>2</th>\n",
       "      <td>152</td>\n",
       "      <td>February - M021990</td>\n",
       "      <td>Andhra Pradesh</td>\n",
       "      <td>Hyderabad</td>\n",
       "      <td>NaN</td>\n",
       "      <td>Residential, Rural and other Areas</td>\n",
       "      <td>6.2</td>\n",
       "      <td>28.5</td>\n",
       "      <td>NaN</td>\n",
       "      <td>NaN</td>\n",
       "      <td>NaN</td>\n",
       "      <td>NaN</td>\n",
       "      <td>1990-02-01</td>\n",
       "    </tr>\n",
       "    <tr>\n",
       "      <th>3</th>\n",
       "      <td>150</td>\n",
       "      <td>March - M031990</td>\n",
       "      <td>Andhra Pradesh</td>\n",
       "      <td>Hyderabad</td>\n",
       "      <td>NaN</td>\n",
       "      <td>Residential, Rural and other Areas</td>\n",
       "      <td>6.3</td>\n",
       "      <td>14.7</td>\n",
       "      <td>NaN</td>\n",
       "      <td>NaN</td>\n",
       "      <td>NaN</td>\n",
       "      <td>NaN</td>\n",
       "      <td>1990-03-01</td>\n",
       "    </tr>\n",
       "    <tr>\n",
       "      <th>4</th>\n",
       "      <td>151</td>\n",
       "      <td>March - M031990</td>\n",
       "      <td>Andhra Pradesh</td>\n",
       "      <td>Hyderabad</td>\n",
       "      <td>NaN</td>\n",
       "      <td>Industrial Area</td>\n",
       "      <td>4.7</td>\n",
       "      <td>7.5</td>\n",
       "      <td>NaN</td>\n",
       "      <td>NaN</td>\n",
       "      <td>NaN</td>\n",
       "      <td>NaN</td>\n",
       "      <td>1990-03-01</td>\n",
       "    </tr>\n",
       "    <tr>\n",
       "      <th>...</th>\n",
       "      <td>...</td>\n",
       "      <td>...</td>\n",
       "      <td>...</td>\n",
       "      <td>...</td>\n",
       "      <td>...</td>\n",
       "      <td>...</td>\n",
       "      <td>...</td>\n",
       "      <td>...</td>\n",
       "      <td>...</td>\n",
       "      <td>...</td>\n",
       "      <td>...</td>\n",
       "      <td>...</td>\n",
       "      <td>...</td>\n",
       "    </tr>\n",
       "    <tr>\n",
       "      <th>435737</th>\n",
       "      <td>SAMP</td>\n",
       "      <td>24-12-15</td>\n",
       "      <td>West Bengal</td>\n",
       "      <td>ULUBERIA</td>\n",
       "      <td>West Bengal State Pollution Control Board</td>\n",
       "      <td>RIRUO</td>\n",
       "      <td>22.0</td>\n",
       "      <td>50.0</td>\n",
       "      <td>143.0</td>\n",
       "      <td>NaN</td>\n",
       "      <td>Inside Rampal Industries,ULUBERIA</td>\n",
       "      <td>NaN</td>\n",
       "      <td>2015-12-24</td>\n",
       "    </tr>\n",
       "    <tr>\n",
       "      <th>435738</th>\n",
       "      <td>SAMP</td>\n",
       "      <td>29-12-15</td>\n",
       "      <td>West Bengal</td>\n",
       "      <td>ULUBERIA</td>\n",
       "      <td>West Bengal State Pollution Control Board</td>\n",
       "      <td>RIRUO</td>\n",
       "      <td>20.0</td>\n",
       "      <td>46.0</td>\n",
       "      <td>171.0</td>\n",
       "      <td>NaN</td>\n",
       "      <td>Inside Rampal Industries,ULUBERIA</td>\n",
       "      <td>NaN</td>\n",
       "      <td>2015-12-29</td>\n",
       "    </tr>\n",
       "    <tr>\n",
       "      <th>435739</th>\n",
       "      <td>NaN</td>\n",
       "      <td>NaN</td>\n",
       "      <td>andaman-and-nicobar-islands</td>\n",
       "      <td>NaN</td>\n",
       "      <td>NaN</td>\n",
       "      <td>NaN</td>\n",
       "      <td>NaN</td>\n",
       "      <td>NaN</td>\n",
       "      <td>NaN</td>\n",
       "      <td>NaN</td>\n",
       "      <td>NaN</td>\n",
       "      <td>NaN</td>\n",
       "      <td>NaN</td>\n",
       "    </tr>\n",
       "    <tr>\n",
       "      <th>435740</th>\n",
       "      <td>NaN</td>\n",
       "      <td>NaN</td>\n",
       "      <td>Lakshadweep</td>\n",
       "      <td>NaN</td>\n",
       "      <td>NaN</td>\n",
       "      <td>NaN</td>\n",
       "      <td>NaN</td>\n",
       "      <td>NaN</td>\n",
       "      <td>NaN</td>\n",
       "      <td>NaN</td>\n",
       "      <td>NaN</td>\n",
       "      <td>NaN</td>\n",
       "      <td>NaN</td>\n",
       "    </tr>\n",
       "    <tr>\n",
       "      <th>435741</th>\n",
       "      <td>NaN</td>\n",
       "      <td>NaN</td>\n",
       "      <td>Tripura</td>\n",
       "      <td>NaN</td>\n",
       "      <td>NaN</td>\n",
       "      <td>NaN</td>\n",
       "      <td>NaN</td>\n",
       "      <td>NaN</td>\n",
       "      <td>NaN</td>\n",
       "      <td>NaN</td>\n",
       "      <td>NaN</td>\n",
       "      <td>NaN</td>\n",
       "      <td>NaN</td>\n",
       "    </tr>\n",
       "  </tbody>\n",
       "</table>\n",
       "<p>435742 rows × 13 columns</p>\n",
       "</div>"
      ],
      "text/plain": [
       "       stn_code       sampling_date                        state   location  \\\n",
       "0           150  February - M021990               Andhra Pradesh  Hyderabad   \n",
       "1           151  February - M021990               Andhra Pradesh  Hyderabad   \n",
       "2           152  February - M021990               Andhra Pradesh  Hyderabad   \n",
       "3           150     March - M031990               Andhra Pradesh  Hyderabad   \n",
       "4           151     March - M031990               Andhra Pradesh  Hyderabad   \n",
       "...         ...                 ...                          ...        ...   \n",
       "435737     SAMP            24-12-15                  West Bengal   ULUBERIA   \n",
       "435738     SAMP            29-12-15                  West Bengal   ULUBERIA   \n",
       "435739      NaN                 NaN  andaman-and-nicobar-islands        NaN   \n",
       "435740      NaN                 NaN                  Lakshadweep        NaN   \n",
       "435741      NaN                 NaN                      Tripura        NaN   \n",
       "\n",
       "                                           agency  \\\n",
       "0                                             NaN   \n",
       "1                                             NaN   \n",
       "2                                             NaN   \n",
       "3                                             NaN   \n",
       "4                                             NaN   \n",
       "...                                           ...   \n",
       "435737  West Bengal State Pollution Control Board   \n",
       "435738  West Bengal State Pollution Control Board   \n",
       "435739                                        NaN   \n",
       "435740                                        NaN   \n",
       "435741                                        NaN   \n",
       "\n",
       "                                      type   so2   no2   rspm  spm  \\\n",
       "0       Residential, Rural and other Areas   4.8  17.4    NaN  NaN   \n",
       "1                          Industrial Area   3.1   7.0    NaN  NaN   \n",
       "2       Residential, Rural and other Areas   6.2  28.5    NaN  NaN   \n",
       "3       Residential, Rural and other Areas   6.3  14.7    NaN  NaN   \n",
       "4                          Industrial Area   4.7   7.5    NaN  NaN   \n",
       "...                                    ...   ...   ...    ...  ...   \n",
       "435737                               RIRUO  22.0  50.0  143.0  NaN   \n",
       "435738                               RIRUO  20.0  46.0  171.0  NaN   \n",
       "435739                                 NaN   NaN   NaN    NaN  NaN   \n",
       "435740                                 NaN   NaN   NaN    NaN  NaN   \n",
       "435741                                 NaN   NaN   NaN    NaN  NaN   \n",
       "\n",
       "              location_monitoring_station  pm2_5        date  \n",
       "0                                     NaN    NaN  1990-02-01  \n",
       "1                                     NaN    NaN  1990-02-01  \n",
       "2                                     NaN    NaN  1990-02-01  \n",
       "3                                     NaN    NaN  1990-03-01  \n",
       "4                                     NaN    NaN  1990-03-01  \n",
       "...                                   ...    ...         ...  \n",
       "435737  Inside Rampal Industries,ULUBERIA    NaN  2015-12-24  \n",
       "435738  Inside Rampal Industries,ULUBERIA    NaN  2015-12-29  \n",
       "435739                                NaN    NaN         NaN  \n",
       "435740                                NaN    NaN         NaN  \n",
       "435741                                NaN    NaN         NaN  \n",
       "\n",
       "[435742 rows x 13 columns]"
      ]
     },
     "execution_count": 3,
     "metadata": {},
     "output_type": "execute_result"
    }
   ],
   "source": [
    "df"
   ]
  },
  {
   "cell_type": "code",
   "execution_count": 4,
   "metadata": {},
   "outputs": [
    {
     "data": {
      "text/plain": [
       "stn_code                       144077\n",
       "sampling_date                       3\n",
       "state                               0\n",
       "location                            3\n",
       "agency                         149481\n",
       "type                             5393\n",
       "so2                             34646\n",
       "no2                             16233\n",
       "rspm                            40222\n",
       "spm                            237387\n",
       "location_monitoring_station     27491\n",
       "pm2_5                          426428\n",
       "date                                7\n",
       "dtype: int64"
      ]
     },
     "execution_count": 4,
     "metadata": {},
     "output_type": "execute_result"
    }
   ],
   "source": [
    "df.isna().sum()"
   ]
  },
  {
   "cell_type": "code",
   "execution_count": 18,
   "metadata": {},
   "outputs": [
    {
     "data": {
      "text/plain": [
       "[<matplotlib.lines.Line2D at 0x1f8be2db850>]"
      ]
     },
     "execution_count": 18,
     "metadata": {},
     "output_type": "execute_result"
    },
    {
     "data": {
      "image/png": "[encoded data removed]",
      "text/plain": [
       "<Figure size 432x288 with 1 Axes>"
      ]
     },
     "metadata": {
      "needs_background": "light"
     },
     "output_type": "display_data"
    }
   ],
   "source": [
    "plt.plot(df.loc[df['state']=='Delhi','date'].astype('str'),df.loc[df['state']=='Delhi','rspm'])"
   ]
  },
  {
   "cell_type": "code",
   "execution_count": 17,
   "metadata": {},
   "outputs": [
    {
     "data": {
      "text/plain": [
       "65861    1987-01-09\n",
       "65862    1987-02-09\n",
       "65863    1987-03-09\n",
       "65864    1987-03-09\n",
       "65865    1987-02-09\n",
       "            ...    \n",
       "74407    2015-12-16\n",
       "74408    2015-12-21\n",
       "74409    2015-12-28\n",
       "74410    2015-12-29\n",
       "74411    2015-12-31\n",
       "Name: date, Length: 8551, dtype: object"
      ]
     },
     "execution_count": 17,
     "metadata": {},
     "output_type": "execute_result"
    }
   ],
   "source": [
    "df.loc[df['state']=='Delhi','date']"
   ]
  },
  {
   "cell_type": "code",
   "execution_count": 9,
   "metadata": {},
   "outputs": [
    {
     "data": {
      "text/plain": [
       "stn_code                       3305\n",
       "sampling_date                     0\n",
       "state                             0\n",
       "location                          0\n",
       "agency                         3956\n",
       "type                              0\n",
       "so2                             741\n",
       "no2                             544\n",
       "rspm                           1884\n",
       "spm                            3092\n",
       "location_monitoring_station    2022\n",
       "pm2_5                          8180\n",
       "date                              0\n",
       "dtype: int64"
      ]
     },
     "execution_count": 9,
     "metadata": {},
     "output_type": "execute_result"
    }
   ],
   "source": [
    "df.loc[df['state']=='Delhi',:].isna().sum()"
   ]
  },
  {
   "cell_type": "code",
   "execution_count": 10,
   "metadata": {},
   "outputs": [
    {
     "data": {
      "text/html": [
       "<div>\n",
       "<style scoped>\n",
       "    .dataframe tbody tr th:only-of-type {\n",
       "        vertical-align: middle;\n",
       "    }\n",
       "\n",
       "    .dataframe tbody tr th {\n",
       "        vertical-align: top;\n",
       "    }\n",
       "\n",
       "    .dataframe thead th {\n",
       "        text-align: right;\n",
       "    }\n",
       "</style>\n",
       "<table border=\"1\" class=\"dataframe\">\n",
       "  <thead>\n",
       "    <tr style=\"text-align: right;\">\n",
       "      <th></th>\n",
       "      <th>so2</th>\n",
       "      <th>no2</th>\n",
       "      <th>rspm</th>\n",
       "      <th>spm</th>\n",
       "      <th>pm2_5</th>\n",
       "    </tr>\n",
       "  </thead>\n",
       "  <tbody>\n",
       "    <tr>\n",
       "      <th>count</th>\n",
       "      <td>7810.000000</td>\n",
       "      <td>8007.000000</td>\n",
       "      <td>6667.000000</td>\n",
       "      <td>5459.000000</td>\n",
       "      <td>371.000000</td>\n",
       "    </tr>\n",
       "    <tr>\n",
       "      <th>mean</th>\n",
       "      <td>8.737273</td>\n",
       "      <td>53.489147</td>\n",
       "      <td>196.639771</td>\n",
       "      <td>399.402088</td>\n",
       "      <td>95.113208</td>\n",
       "    </tr>\n",
       "    <tr>\n",
       "      <th>std</th>\n",
       "      <td>7.613131</td>\n",
       "      <td>27.494406</td>\n",
       "      <td>115.925078</td>\n",
       "      <td>188.775771</td>\n",
       "      <td>47.127178</td>\n",
       "    </tr>\n",
       "    <tr>\n",
       "      <th>min</th>\n",
       "      <td>0.500000</td>\n",
       "      <td>2.800000</td>\n",
       "      <td>13.000000</td>\n",
       "      <td>30.000000</td>\n",
       "      <td>14.000000</td>\n",
       "    </tr>\n",
       "    <tr>\n",
       "      <th>25%</th>\n",
       "      <td>4.000000</td>\n",
       "      <td>35.000000</td>\n",
       "      <td>111.000000</td>\n",
       "      <td>266.000000</td>\n",
       "      <td>62.000000</td>\n",
       "    </tr>\n",
       "    <tr>\n",
       "      <th>50%</th>\n",
       "      <td>6.000000</td>\n",
       "      <td>47.000000</td>\n",
       "      <td>171.000000</td>\n",
       "      <td>366.000000</td>\n",
       "      <td>86.000000</td>\n",
       "    </tr>\n",
       "    <tr>\n",
       "      <th>75%</th>\n",
       "      <td>11.600000</td>\n",
       "      <td>62.350000</td>\n",
       "      <td>256.000000</td>\n",
       "      <td>501.000000</td>\n",
       "      <td>118.500000</td>\n",
       "    </tr>\n",
       "    <tr>\n",
       "      <th>max</th>\n",
       "      <td>127.400000</td>\n",
       "      <td>224.000000</td>\n",
       "      <td>892.000000</td>\n",
       "      <td>1885.000000</td>\n",
       "      <td>318.000000</td>\n",
       "    </tr>\n",
       "  </tbody>\n",
       "</table>\n",
       "</div>"
      ],
      "text/plain": [
       "               so2          no2         rspm          spm       pm2_5\n",
       "count  7810.000000  8007.000000  6667.000000  5459.000000  371.000000\n",
       "mean      8.737273    53.489147   196.639771   399.402088   95.113208\n",
       "std       7.613131    27.494406   115.925078   188.775771   47.127178\n",
       "min       0.500000     2.800000    13.000000    30.000000   14.000000\n",
       "25%       4.000000    35.000000   111.000000   266.000000   62.000000\n",
       "50%       6.000000    47.000000   171.000000   366.000000   86.000000\n",
       "75%      11.600000    62.350000   256.000000   501.000000  118.500000\n",
       "max     127.400000   224.000000   892.000000  1885.000000  318.000000"
      ]
     },
     "execution_count": 10,
     "metadata": {},
     "output_type": "execute_result"
    }
   ],
   "source": [
    "df.loc[df['state']=='Delhi',:].describe()"
   ]
  },
  {
   "cell_type": "code",
   "execution_count": 19,
   "metadata": {},
   "outputs": [
    {
     "data": {
      "text/plain": [
       "<matplotlib.axes._subplots.AxesSubplot at 0x1f8c427b460>"
      ]
     },
     "execution_count": 19,
     "metadata": {},
     "output_type": "execute_result"
    },
    {
     "data": {
      "image/png": "[encoded data removed]",
      "text/plain": [
       "<Figure size 432x288 with 1 Axes>"
      ]
     },
     "metadata": {
      "needs_background": "light"
     },
     "output_type": "display_data"
    }
   ],
   "source": [
    "sns.barplot(df.loc[df['state']=='Delhi','date'].astype('str'),df.loc[df['state']=='Delhi','rspm'])"
   ]
  },
  {
   "cell_type": "code",
   "execution_count": null,
   "metadata": {},
   "outputs": [],
   "source": [
    "### this representation is made much better in tableau , check that out !!!\n",
    "\n",
    "# explain what is rspm , spm and other terms so that we can let the reader have a better understanding of what we know.... and make him aware toooo\n",
    "# "
   ]
  },
  {
   "cell_type": "code",
   "execution_count": 20,
   "metadata": {},
   "outputs": [
    {
     "name": "stdout",
     "output_type": "stream",
     "text": [
      "<_io.TextIOWrapper name='Table_3.7c_Petroleum_Consumption___Transportation_and_Electric_Power_Sectors.xlsx' mode='r' encoding='cp1252'>\n"
     ]
    }
   ],
   "source": [
    "with open('Table_3.7c_Petroleum_Consumption___Transportation_and_Electric_Power_Sectors.xlsx') as f:\n",
    "    print(f)\n",
    "    \n",
    "\n",
    "#it appears most of the data sets were using this encoding ---- cp1252"
   ]
  },
  {
   "cell_type": "code",
   "execution_count": null,
   "metadata": {},
   "outputs": [],
   "source": [
    "petrol_con = pd.read_excel('Table_3.7c_Petroleum_Consumption___Transportation_and_Electric_Power_Sectors.xlsx',)"
   ]
  },
  {
   "cell_type": "code",
   "execution_count": null,
   "metadata": {},
   "outputs": [],
   "source": [
    "\n",
    "# for delhi data ----> https://data.gov.in/catalog/air-quality-respect-suspended-particulate-matter-under-national-air-quality-monitoring?filters%5Bfield_catalog_reference%5D=85767&format=json&offset=0&limit=6&sort%5Bcreated%5D=desc"
   ]
  },
  {
   "cell_type": "code",
   "execution_count": 2,
   "metadata": {},
   "outputs": [],
   "source": [
    "df = pd.read_csv('table_export.csv')"
   ]
  },
  {
   "cell_type": "code",
   "execution_count": 16,
   "metadata": {},
   "outputs": [
    {
     "data": {
      "text/html": [
       "<div>\n",
       "<style scoped>\n",
       "    .dataframe tbody tr th:only-of-type {\n",
       "        vertical-align: middle;\n",
       "    }\n",
       "\n",
       "    .dataframe tbody tr th {\n",
       "        vertical-align: top;\n",
       "    }\n",
       "\n",
       "    .dataframe thead th {\n",
       "        text-align: right;\n",
       "    }\n",
       "</style>\n",
       "<table border=\"1\" class=\"dataframe\">\n",
       "  <thead>\n",
       "    <tr style=\"text-align: right;\">\n",
       "      <th></th>\n",
       "      <th>Model Year</th>\n",
       "      <th>Regulatory Class</th>\n",
       "      <th>Vehicle Type</th>\n",
       "      <th>Production Share</th>\n",
       "      <th>Real-World MPG</th>\n",
       "      <th>Real-World MPG_City</th>\n",
       "      <th>Real-World MPG_Hwy</th>\n",
       "      <th>Real-World CO2 (g/mi)</th>\n",
       "      <th>Real-World CO2_City (g/mi)</th>\n",
       "      <th>Real-World CO2_Hwy (g/mi)</th>\n",
       "      <th>Weight (lbs)</th>\n",
       "      <th>Horsepower (HP)</th>\n",
       "      <th>Footprint (sq. ft.)</th>\n",
       "    </tr>\n",
       "  </thead>\n",
       "  <tbody>\n",
       "    <tr>\n",
       "      <th>0</th>\n",
       "      <td>1975</td>\n",
       "      <td>All</td>\n",
       "      <td>All</td>\n",
       "      <td>1.000000</td>\n",
       "      <td>13.05970</td>\n",
       "      <td>12.01552</td>\n",
       "      <td>14.61167</td>\n",
       "      <td>680.59612</td>\n",
       "      <td>739.73800</td>\n",
       "      <td>608.31160</td>\n",
       "      <td>4060.399</td>\n",
       "      <td>137.3346</td>\n",
       "      <td>-</td>\n",
       "    </tr>\n",
       "    <tr>\n",
       "      <th>1</th>\n",
       "      <td>1975</td>\n",
       "      <td>Car</td>\n",
       "      <td>All Car</td>\n",
       "      <td>0.806646</td>\n",
       "      <td>13.45483</td>\n",
       "      <td>12.31413</td>\n",
       "      <td>15.17266</td>\n",
       "      <td>660.63740</td>\n",
       "      <td>721.82935</td>\n",
       "      <td>585.84724</td>\n",
       "      <td>4057.494</td>\n",
       "      <td>136.1964</td>\n",
       "      <td>-</td>\n",
       "    </tr>\n",
       "    <tr>\n",
       "      <th>2</th>\n",
       "      <td>1975</td>\n",
       "      <td>Car</td>\n",
       "      <td>Sedan/Wagon</td>\n",
       "      <td>0.805645</td>\n",
       "      <td>13.45833</td>\n",
       "      <td>12.31742</td>\n",
       "      <td>15.17643</td>\n",
       "      <td>660.46603</td>\n",
       "      <td>721.63673</td>\n",
       "      <td>585.70185</td>\n",
       "      <td>4057.565</td>\n",
       "      <td>136.2256</td>\n",
       "      <td>-</td>\n",
       "    </tr>\n",
       "    <tr>\n",
       "      <th>3</th>\n",
       "      <td>1975</td>\n",
       "      <td>Truck</td>\n",
       "      <td>All Truck</td>\n",
       "      <td>0.193354</td>\n",
       "      <td>11.63431</td>\n",
       "      <td>10.91165</td>\n",
       "      <td>12.65900</td>\n",
       "      <td>763.86134</td>\n",
       "      <td>814.45060</td>\n",
       "      <td>702.03002</td>\n",
       "      <td>4072.518</td>\n",
       "      <td>142.0826</td>\n",
       "      <td>-</td>\n",
       "    </tr>\n",
       "    <tr>\n",
       "      <th>4</th>\n",
       "      <td>1975</td>\n",
       "      <td>Truck</td>\n",
       "      <td>Pickup</td>\n",
       "      <td>0.131322</td>\n",
       "      <td>11.91476</td>\n",
       "      <td>11.07827</td>\n",
       "      <td>13.12613</td>\n",
       "      <td>745.88139</td>\n",
       "      <td>802.20090</td>\n",
       "      <td>677.04643</td>\n",
       "      <td>4011.977</td>\n",
       "      <td>140.9365</td>\n",
       "      <td>-</td>\n",
       "    </tr>\n",
       "  </tbody>\n",
       "</table>\n",
       "</div>"
      ],
      "text/plain": [
       "  Model Year Regulatory Class Vehicle Type  Production Share  Real-World MPG  \\\n",
       "0       1975              All          All          1.000000        13.05970   \n",
       "1       1975              Car      All Car          0.806646        13.45483   \n",
       "2       1975              Car  Sedan/Wagon          0.805645        13.45833   \n",
       "3       1975            Truck    All Truck          0.193354        11.63431   \n",
       "4       1975            Truck       Pickup          0.131322        11.91476   \n",
       "\n",
       "   Real-World MPG_City  Real-World MPG_Hwy  Real-World CO2 (g/mi)  \\\n",
       "0             12.01552            14.61167              680.59612   \n",
       "1             12.31413            15.17266              660.63740   \n",
       "2             12.31742            15.17643              660.46603   \n",
       "3             10.91165            12.65900              763.86134   \n",
       "4             11.07827            13.12613              745.88139   \n",
       "\n",
       "   Real-World CO2_City (g/mi)  Real-World CO2_Hwy (g/mi)  Weight (lbs)  \\\n",
       "0                   739.73800                  608.31160      4060.399   \n",
       "1                   721.82935                  585.84724      4057.494   \n",
       "2                   721.63673                  585.70185      4057.565   \n",
       "3                   814.45060                  702.03002      4072.518   \n",
       "4                   802.20090                  677.04643      4011.977   \n",
       "\n",
       "   Horsepower (HP) Footprint (sq. ft.)  \n",
       "0         137.3346                   -  \n",
       "1         136.1964                   -  \n",
       "2         136.2256                   -  \n",
       "3         142.0826                   -  \n",
       "4         140.9365                   -  "
      ]
     },
     "execution_count": 16,
     "metadata": {},
     "output_type": "execute_result"
    }
   ],
   "source": [
    "df.head()"
   ]
  },
  {
   "cell_type": "code",
   "execution_count": 11,
   "metadata": {},
   "outputs": [
    {
     "data": {
      "image/png": "[encoded data removed]",
      "text/plain": [
       "<Figure size 1296x864 with 1 Axes>"
      ]
     },
     "metadata": {
      "needs_background": "light"
     },
     "output_type": "display_data"
    }
   ],
   "source": [
    "plt.figure(figsize=(18,12))\n",
    "plt.plot(df['Model Year'],df['Real-World CO2_City (g/mi)'])\n",
    "plt.xticks(rotation=45)\n",
    "plt.show()"
   ]
  },
  {
   "cell_type": "code",
   "execution_count": 13,
   "metadata": {},
   "outputs": [
    {
     "data": {
      "text/plain": [
       "Model Year                    0\n",
       "Regulatory Class              0\n",
       "Vehicle Type                  0\n",
       "Production Share              0\n",
       "Real-World MPG                0\n",
       "Real-World MPG_City           0\n",
       "Real-World MPG_Hwy            0\n",
       "Real-World CO2 (g/mi)         0\n",
       "Real-World CO2_City (g/mi)    0\n",
       "Real-World CO2_Hwy (g/mi)     0\n",
       "Weight (lbs)                  0\n",
       "Horsepower (HP)               0\n",
       "Footprint (sq. ft.)           0\n",
       "dtype: int64"
      ]
     },
     "execution_count": 13,
     "metadata": {},
     "output_type": "execute_result"
    }
   ],
   "source": [
    "df.isna().sum()"
   ]
  },
  {
   "cell_type": "code",
   "execution_count": 15,
   "metadata": {},
   "outputs": [
    {
     "name": "stdout",
     "output_type": "stream",
     "text": [
      "<class 'pandas.core.frame.DataFrame'>\n",
      "RangeIndex: 368 entries, 0 to 367\n",
      "Data columns (total 13 columns):\n",
      " #   Column                      Non-Null Count  Dtype  \n",
      "---  ------                      --------------  -----  \n",
      " 0   Model Year                  368 non-null    object \n",
      " 1   Regulatory Class            368 non-null    object \n",
      " 2   Vehicle Type                368 non-null    object \n",
      " 3   Production Share            368 non-null    float64\n",
      " 4   Real-World MPG              368 non-null    float64\n",
      " 5   Real-World MPG_City         368 non-null    float64\n",
      " 6   Real-World MPG_Hwy          368 non-null    float64\n",
      " 7   Real-World CO2 (g/mi)       368 non-null    float64\n",
      " 8   Real-World CO2_City (g/mi)  368 non-null    float64\n",
      " 9   Real-World CO2_Hwy (g/mi)   368 non-null    float64\n",
      " 10  Weight (lbs)                368 non-null    float64\n",
      " 11  Horsepower (HP)             368 non-null    float64\n",
      " 12  Footprint (sq. ft.)         368 non-null    object \n",
      "dtypes: float64(9), object(4)\n",
      "memory usage: 37.5+ KB\n"
     ]
    }
   ],
   "source": [
    "df.info()"
   ]
  },
  {
   "cell_type": "markdown",
   "metadata": {},
   "source": [
    "No null values to be cleaned in the data , other representations are given in tableau..."
   ]
  },
  {
   "cell_type": "markdown",
   "metadata": {},
   "source": [
    "Converting model year into 'int' cannot pass it into model this way....\n"
   ]
  },
  {
   "cell_type": "code",
   "execution_count": 3,
   "metadata": {},
   "outputs": [],
   "source": [
    "df.loc[df['Model Year']=='Prelim. 2020',['Model Year']] = '2020'"
   ]
  },
  {
   "cell_type": "code",
   "execution_count": 4,
   "metadata": {},
   "outputs": [
    {
     "data": {
      "text/html": [
       "<div>\n",
       "<style scoped>\n",
       "    .dataframe tbody tr th:only-of-type {\n",
       "        vertical-align: middle;\n",
       "    }\n",
       "\n",
       "    .dataframe tbody tr th {\n",
       "        vertical-align: top;\n",
       "    }\n",
       "\n",
       "    .dataframe thead th {\n",
       "        text-align: right;\n",
       "    }\n",
       "</style>\n",
       "<table border=\"1\" class=\"dataframe\">\n",
       "  <thead>\n",
       "    <tr style=\"text-align: right;\">\n",
       "      <th></th>\n",
       "      <th>Model Year</th>\n",
       "      <th>Regulatory Class</th>\n",
       "      <th>Vehicle Type</th>\n",
       "      <th>Production Share</th>\n",
       "      <th>Real-World MPG</th>\n",
       "      <th>Real-World MPG_City</th>\n",
       "      <th>Real-World MPG_Hwy</th>\n",
       "      <th>Real-World CO2 (g/mi)</th>\n",
       "      <th>Real-World CO2_City (g/mi)</th>\n",
       "      <th>Real-World CO2_Hwy (g/mi)</th>\n",
       "      <th>Weight (lbs)</th>\n",
       "      <th>Horsepower (HP)</th>\n",
       "      <th>Footprint (sq. ft.)</th>\n",
       "    </tr>\n",
       "  </thead>\n",
       "  <tbody>\n",
       "    <tr>\n",
       "      <th>360</th>\n",
       "      <td>2020</td>\n",
       "      <td>All</td>\n",
       "      <td>All</td>\n",
       "      <td>1.000000</td>\n",
       "      <td>25.68668</td>\n",
       "      <td>22.30853</td>\n",
       "      <td>28.99946</td>\n",
       "      <td>343.58418</td>\n",
       "      <td>396.04948</td>\n",
       "      <td>304.00509</td>\n",
       "      <td>4177.324</td>\n",
       "      <td>246.8687</td>\n",
       "      <td>50.37178</td>\n",
       "    </tr>\n",
       "    <tr>\n",
       "      <th>361</th>\n",
       "      <td>2020</td>\n",
       "      <td>Truck</td>\n",
       "      <td>All Truck</td>\n",
       "      <td>0.571723</td>\n",
       "      <td>22.59266</td>\n",
       "      <td>19.64241</td>\n",
       "      <td>25.47968</td>\n",
       "      <td>393.78708</td>\n",
       "      <td>452.84333</td>\n",
       "      <td>349.23588</td>\n",
       "      <td>4598.515</td>\n",
       "      <td>272.9226</td>\n",
       "      <td>53.06803</td>\n",
       "    </tr>\n",
       "    <tr>\n",
       "      <th>362</th>\n",
       "      <td>2020</td>\n",
       "      <td>Car</td>\n",
       "      <td>All Car</td>\n",
       "      <td>0.428277</td>\n",
       "      <td>31.43323</td>\n",
       "      <td>27.24521</td>\n",
       "      <td>35.55638</td>\n",
       "      <td>276.56636</td>\n",
       "      <td>320.23315</td>\n",
       "      <td>243.62474</td>\n",
       "      <td>3615.061</td>\n",
       "      <td>212.0882</td>\n",
       "      <td>46.77245</td>\n",
       "    </tr>\n",
       "    <tr>\n",
       "      <th>363</th>\n",
       "      <td>2020</td>\n",
       "      <td>Truck</td>\n",
       "      <td>Truck SUV</td>\n",
       "      <td>0.408446</td>\n",
       "      <td>23.85366</td>\n",
       "      <td>20.80423</td>\n",
       "      <td>26.81922</td>\n",
       "      <td>372.25326</td>\n",
       "      <td>426.75118</td>\n",
       "      <td>331.14080</td>\n",
       "      <td>4396.501</td>\n",
       "      <td>251.0150</td>\n",
       "      <td>49.13703</td>\n",
       "    </tr>\n",
       "    <tr>\n",
       "      <th>364</th>\n",
       "      <td>2020</td>\n",
       "      <td>Car</td>\n",
       "      <td>Sedan/Wagon</td>\n",
       "      <td>0.332830</td>\n",
       "      <td>32.02186</td>\n",
       "      <td>27.56718</td>\n",
       "      <td>36.46739</td>\n",
       "      <td>271.71313</td>\n",
       "      <td>316.73002</td>\n",
       "      <td>237.75302</td>\n",
       "      <td>3557.897</td>\n",
       "      <td>209.6671</td>\n",
       "      <td>46.73399</td>\n",
       "    </tr>\n",
       "    <tr>\n",
       "      <th>365</th>\n",
       "      <td>2020</td>\n",
       "      <td>Truck</td>\n",
       "      <td>Pickup</td>\n",
       "      <td>0.136940</td>\n",
       "      <td>19.45440</td>\n",
       "      <td>16.82960</td>\n",
       "      <td>22.04854</td>\n",
       "      <td>460.13764</td>\n",
       "      <td>531.82056</td>\n",
       "      <td>406.06104</td>\n",
       "      <td>5192.148</td>\n",
       "      <td>340.4643</td>\n",
       "      <td>64.35540</td>\n",
       "    </tr>\n",
       "    <tr>\n",
       "      <th>366</th>\n",
       "      <td>2020</td>\n",
       "      <td>Car</td>\n",
       "      <td>Car SUV</td>\n",
       "      <td>0.095447</td>\n",
       "      <td>29.53973</td>\n",
       "      <td>26.17903</td>\n",
       "      <td>32.70721</td>\n",
       "      <td>293.48992</td>\n",
       "      <td>332.44883</td>\n",
       "      <td>264.09987</td>\n",
       "      <td>3814.395</td>\n",
       "      <td>220.5308</td>\n",
       "      <td>46.90658</td>\n",
       "    </tr>\n",
       "    <tr>\n",
       "      <th>367</th>\n",
       "      <td>2020</td>\n",
       "      <td>Truck</td>\n",
       "      <td>Minivan/Van</td>\n",
       "      <td>0.026337</td>\n",
       "      <td>23.02828</td>\n",
       "      <td>19.70052</td>\n",
       "      <td>26.39129</td>\n",
       "      <td>382.75165</td>\n",
       "      <td>446.84756</td>\n",
       "      <td>334.39859</td>\n",
       "      <td>4644.827</td>\n",
       "      <td>261.4910</td>\n",
       "      <td>55.34265</td>\n",
       "    </tr>\n",
       "  </tbody>\n",
       "</table>\n",
       "</div>"
      ],
      "text/plain": [
       "    Model Year Regulatory Class Vehicle Type  Production Share  \\\n",
       "360       2020              All          All          1.000000   \n",
       "361       2020            Truck    All Truck          0.571723   \n",
       "362       2020              Car      All Car          0.428277   \n",
       "363       2020            Truck    Truck SUV          0.408446   \n",
       "364       2020              Car  Sedan/Wagon          0.332830   \n",
       "365       2020            Truck       Pickup          0.136940   \n",
       "366       2020              Car      Car SUV          0.095447   \n",
       "367       2020            Truck  Minivan/Van          0.026337   \n",
       "\n",
       "     Real-World MPG  Real-World MPG_City  Real-World MPG_Hwy  \\\n",
       "360        25.68668             22.30853            28.99946   \n",
       "361        22.59266             19.64241            25.47968   \n",
       "362        31.43323             27.24521            35.55638   \n",
       "363        23.85366             20.80423            26.81922   \n",
       "364        32.02186             27.56718            36.46739   \n",
       "365        19.45440             16.82960            22.04854   \n",
       "366        29.53973             26.17903            32.70721   \n",
       "367        23.02828             19.70052            26.39129   \n",
       "\n",
       "     Real-World CO2 (g/mi)  Real-World CO2_City (g/mi)  \\\n",
       "360              343.58418                   396.04948   \n",
       "361              393.78708                   452.84333   \n",
       "362              276.56636                   320.23315   \n",
       "363              372.25326                   426.75118   \n",
       "364              271.71313                   316.73002   \n",
       "365              460.13764                   531.82056   \n",
       "366              293.48992                   332.44883   \n",
       "367              382.75165                   446.84756   \n",
       "\n",
       "     Real-World CO2_Hwy (g/mi)  Weight (lbs)  Horsepower (HP)  \\\n",
       "360                  304.00509      4177.324         246.8687   \n",
       "361                  349.23588      4598.515         272.9226   \n",
       "362                  243.62474      3615.061         212.0882   \n",
       "363                  331.14080      4396.501         251.0150   \n",
       "364                  237.75302      3557.897         209.6671   \n",
       "365                  406.06104      5192.148         340.4643   \n",
       "366                  264.09987      3814.395         220.5308   \n",
       "367                  334.39859      4644.827         261.4910   \n",
       "\n",
       "    Footprint (sq. ft.)  \n",
       "360            50.37178  \n",
       "361            53.06803  \n",
       "362            46.77245  \n",
       "363            49.13703  \n",
       "364            46.73399  \n",
       "365            64.35540  \n",
       "366            46.90658  \n",
       "367            55.34265  "
      ]
     },
     "execution_count": 4,
     "metadata": {},
     "output_type": "execute_result"
    }
   ],
   "source": [
    "df.loc[df['Model Year']=='2020']"
   ]
  },
  {
   "cell_type": "code",
   "execution_count": 5,
   "metadata": {},
   "outputs": [],
   "source": [
    "df['model year'] = df['Model Year'].astype('int')\n",
    "df.drop(['Model Year','Footprint (sq. ft.)'],axis=1,inplace=True)"
   ]
  },
  {
   "cell_type": "markdown",
   "metadata": {},
   "source": [
    "### encoding all labels of regulatory class & vehicle type "
   ]
  },
  {
   "cell_type": "code",
   "execution_count": 6,
   "metadata": {},
   "outputs": [],
   "source": [
    "enc = LabelEncoder()"
   ]
  },
  {
   "cell_type": "code",
   "execution_count": 7,
   "metadata": {},
   "outputs": [],
   "source": [
    "df['Regulatory Class'] = enc.fit_transform(df['Regulatory Class'])\n",
    "df['Vehicle Type'] = enc.fit_transform(df['Vehicle Type'])"
   ]
  },
  {
   "cell_type": "code",
   "execution_count": 8,
   "metadata": {},
   "outputs": [
    {
     "name": "stdout",
     "output_type": "stream",
     "text": [
      "<class 'pandas.core.frame.DataFrame'>\n",
      "RangeIndex: 368 entries, 0 to 367\n",
      "Data columns (total 12 columns):\n",
      " #   Column                      Non-Null Count  Dtype  \n",
      "---  ------                      --------------  -----  \n",
      " 0   Regulatory Class            368 non-null    int32  \n",
      " 1   Vehicle Type                368 non-null    int32  \n",
      " 2   Production Share            368 non-null    float64\n",
      " 3   Real-World MPG              368 non-null    float64\n",
      " 4   Real-World MPG_City         368 non-null    float64\n",
      " 5   Real-World MPG_Hwy          368 non-null    float64\n",
      " 6   Real-World CO2 (g/mi)       368 non-null    float64\n",
      " 7   Real-World CO2_City (g/mi)  368 non-null    float64\n",
      " 8   Real-World CO2_Hwy (g/mi)   368 non-null    float64\n",
      " 9   Weight (lbs)                368 non-null    float64\n",
      " 10  Horsepower (HP)             368 non-null    float64\n",
      " 11  model year                  368 non-null    int32  \n",
      "dtypes: float64(9), int32(3)\n",
      "memory usage: 30.3 KB\n"
     ]
    }
   ],
   "source": [
    "df.info()"
   ]
  },
  {
   "cell_type": "markdown",
   "metadata": {},
   "source": [
    "# Making Model "
   ]
  },
  {
   "cell_type": "code",
   "execution_count": 9,
   "metadata": {},
   "outputs": [],
   "source": [
    "X_pre,y_pre = df.drop(['Real-World CO2 (g/mi)','Real-World CO2_City (g/mi)','Real-World CO2_Hwy (g/mi)'],axis=1),df['Real-World CO2 (g/mi)']"
   ]
  },
  {
   "cell_type": "code",
   "execution_count": 10,
   "metadata": {},
   "outputs": [],
   "source": [
    "X_pre.drop(['Real-World MPG_City','Real-World MPG_Hwy','Production Share','Regulatory Class','Vehicle Type'],inplace=True,axis=1)"
   ]
  },
  {
   "cell_type": "code",
   "execution_count": 13,
   "metadata": {},
   "outputs": [],
   "source": [
    "X,y = X_pre[:-40],y_pre[:-40]"
   ]
  },
  {
   "cell_type": "code",
   "execution_count": 14,
   "metadata": {},
   "outputs": [],
   "source": [
    "X_train,X_test,y_train,y_test = train_test_split(X,y)"
   ]
  },
  {
   "cell_type": "code",
   "execution_count": 26,
   "metadata": {},
   "outputs": [
    {
     "data": {
      "text/plain": [
       "LinearRegression()"
      ]
     },
     "execution_count": 26,
     "metadata": {},
     "output_type": "execute_result"
    }
   ],
   "source": [
    "lr = LinearRegression()\n",
    "lr.fit(X_train,y_train)"
   ]
  },
  {
   "cell_type": "code",
   "execution_count": 27,
   "metadata": {},
   "outputs": [],
   "source": [
    "predict = lr.predict(X_test)"
   ]
  },
  {
   "cell_type": "code",
   "execution_count": 36,
   "metadata": {},
   "outputs": [
    {
     "data": {
      "text/plain": [
       "246    460.41503\n",
       "178    380.26313\n",
       "165    491.59189\n",
       "134    531.24220\n",
       "160    433.83372\n",
       "         ...    \n",
       "46     675.57737\n",
       "232    460.55651\n",
       "100    466.95388\n",
       "10     597.85756\n",
       "158    555.20998\n",
       "Name: Real-World CO2 (g/mi), Length: 82, dtype: float64"
      ]
     },
     "execution_count": 36,
     "metadata": {},
     "output_type": "execute_result"
    }
   ],
   "source": [
    "y_test"
   ]
  },
  {
   "cell_type": "code",
   "execution_count": 29,
   "metadata": {},
   "outputs": [
    {
     "data": {
      "text/plain": [
       "array([524.08443302, 415.64932458, 384.88452081, 519.81560915,\n",
       "       426.01782031, 451.3186657 , 234.88360643, 549.53257652,\n",
       "       541.59882246, 372.80044127, 709.85873804, 502.12179899,\n",
       "       644.49875151, 523.55143992, 484.61252255, 557.91456254,\n",
       "       383.94443778, 381.58275065, 553.83473529, 528.24287688,\n",
       "       526.55122327, 388.43220158, 345.54456437, 614.50116711,\n",
       "       537.15587954, 662.6310974 , 675.36124191, 567.86967264,\n",
       "       462.86595625, 562.83924202, 370.20685728, 545.2125391 ,\n",
       "       380.5780599 , 433.21138977, 458.4534386 , 457.37065939,\n",
       "       542.29173915, 550.62095047, 394.73236124, 452.37773697,\n",
       "       586.93841186, 655.43445889, 534.06945661, 461.80827725,\n",
       "       444.03357391, 405.87909741, 521.76786341, 425.747197  ,\n",
       "       509.07320325, 405.19231849, 534.52893781, 565.11314195,\n",
       "       361.48893398, 516.47881329, 484.43510458, 398.81879205,\n",
       "       490.62474725, 504.54316234, 641.83778459, 563.59501838,\n",
       "       604.98573479, 537.13674653, 554.08427614, 511.68234694,\n",
       "       612.19558975, 454.9816916 , 506.50834748, 458.99221979,\n",
       "       605.1741436 , 495.59838937, 494.6461744 , 675.68704829,\n",
       "       434.90211486, 422.26048282, 530.98708188, 625.14606014,\n",
       "       482.69730485, 519.45882635, 378.40967916, 668.27569386,\n",
       "       525.52521628, 516.81936128])"
      ]
     },
     "execution_count": 29,
     "metadata": {},
     "output_type": "execute_result"
    }
   ],
   "source": [
    "predict"
   ]
  },
  {
   "cell_type": "code",
   "execution_count": 44,
   "metadata": {},
   "outputs": [
    {
     "data": {
      "text/plain": [
       "<matplotlib.axes._subplots.AxesSubplot at 0x1ec9fda5940>"
      ]
     },
     "execution_count": 44,
     "metadata": {},
     "output_type": "execute_result"
    },
    {
     "data": {
      "image/png": "[encoded data removed]",
      "text/plain": [
       "<Figure size 432x288 with 2 Axes>"
      ]
     },
     "metadata": {
      "needs_background": "light"
     },
     "output_type": "display_data"
    }
   ],
   "source": [
    "sns.heatmap(X.corr())"
   ]
  },
  {
   "cell_type": "code",
   "execution_count": 28,
   "metadata": {},
   "outputs": [
    {
     "data": {
      "text/plain": [
       "507.59869662796956"
      ]
     },
     "execution_count": 28,
     "metadata": {},
     "output_type": "execute_result"
    }
   ],
   "source": [
    "mean_squared_error(y_test,predict)"
   ]
  },
  {
   "cell_type": "markdown",
   "metadata": {},
   "source": [
    "# the results are bad lets try reducing correlated features and remove multicollinearity "
   ]
  },
  {
   "cell_type": "code",
   "execution_count": 45,
   "metadata": {},
   "outputs": [
    {
     "name": "stdout",
     "output_type": "stream",
     "text": [
      "<class 'pandas.core.frame.DataFrame'>\n",
      "RangeIndex: 328 entries, 0 to 327\n",
      "Data columns (total 9 columns):\n",
      " #   Column               Non-Null Count  Dtype  \n",
      "---  ------               --------------  -----  \n",
      " 0   Regulatory Class     328 non-null    int32  \n",
      " 1   Vehicle Type         328 non-null    int32  \n",
      " 2   Production Share     328 non-null    float64\n",
      " 3   Real-World MPG       328 non-null    float64\n",
      " 4   Real-World MPG_City  328 non-null    float64\n",
      " 5   Real-World MPG_Hwy   328 non-null    float64\n",
      " 6   Weight (lbs)         328 non-null    float64\n",
      " 7   Horsepower (HP)      328 non-null    float64\n",
      " 8   model year           328 non-null    int32  \n",
      "dtypes: float64(6), int32(3)\n",
      "memory usage: 19.3 KB\n"
     ]
    }
   ],
   "source": [
    "X.info()"
   ]
  },
  {
   "cell_type": "code",
   "execution_count": 52,
   "metadata": {},
   "outputs": [],
   "source": [
    "X_train.drop(['Real-World MPG_City','Real-World MPG_Hwy','Production Share','Regulatory Class','Vehicle Type'],inplace=True,axis=1)"
   ]
  },
  {
   "cell_type": "code",
   "execution_count": 53,
   "metadata": {},
   "outputs": [],
   "source": [
    "X_test.drop(['Real-World MPG_City','Real-World MPG_Hwy','Production Share','Regulatory Class','Vehicle Type'],inplace=True,axis=1)"
   ]
  },
  {
   "cell_type": "code",
   "execution_count": 54,
   "metadata": {},
   "outputs": [
    {
     "data": {
      "text/plain": [
       "LinearRegression()"
      ]
     },
     "execution_count": 54,
     "metadata": {},
     "output_type": "execute_result"
    }
   ],
   "source": [
    "lr = LinearRegression()\n",
    "lr.fit(X_train,y_train)"
   ]
  },
  {
   "cell_type": "code",
   "execution_count": 55,
   "metadata": {},
   "outputs": [],
   "source": [
    "pred = lr.predict(X_test)"
   ]
  },
  {
   "cell_type": "code",
   "execution_count": 56,
   "metadata": {},
   "outputs": [
    {
     "data": {
      "text/plain": [
       "680.9437626873224"
      ]
     },
     "execution_count": 56,
     "metadata": {},
     "output_type": "execute_result"
    }
   ],
   "source": [
    "mean_squared_error(y_test,pred)"
   ]
  },
  {
   "cell_type": "code",
   "execution_count": 57,
   "metadata": {},
   "outputs": [
    {
     "data": {
      "text/plain": [
       "array([488.7127629 , 547.02471673, 356.26264159, 442.8509349 ,\n",
       "       527.7045209 , 484.55182298, 381.63722434, 554.75489642,\n",
       "       544.0423851 , 610.07979856, 328.61763745, 530.27202517,\n",
       "       346.37157512, 651.60196221, 385.62921264, 474.16197203,\n",
       "       379.63791398, 543.70456579, 530.48149109, 444.52446828,\n",
       "       491.60152321, 535.4673226 , 560.47776076, 461.49682155,\n",
       "       461.58924525, 554.02067267, 360.31616573, 528.38075014,\n",
       "       371.48887748, 387.37055507, 376.73559767, 436.57760729,\n",
       "       380.02260616, 680.59056134, 469.73681814, 301.44679148,\n",
       "       496.21940573, 422.13783164, 442.72991795, 606.41994265,\n",
       "       468.66194839, 440.29088096, 497.22226885, 391.03856772,\n",
       "       567.42251686, 711.15201655, 407.99050289, 382.2941174 ,\n",
       "       563.18017391, 500.19319275, 554.97382969, 510.76909383,\n",
       "       553.88073236, 417.30724176, 502.2984644 , 698.81326275,\n",
       "       466.53647506, 460.81549443, 248.87115249, 291.0798633 ,\n",
       "       495.68856898, 368.97372015, 443.51694796, 380.73087303,\n",
       "       585.02159681, 303.25828259, 686.48289513, 428.26627506,\n",
       "       481.10176469, 398.35833405, 510.79822078, 358.65626253,\n",
       "       521.34241995, 450.32004407, 591.15444883, 415.0824687 ,\n",
       "       548.01341032, 588.59587052, 359.28526076, 556.65693488,\n",
       "       605.92766801, 505.61246447])"
      ]
     },
     "execution_count": 57,
     "metadata": {},
     "output_type": "execute_result"
    }
   ],
   "source": [
    "pred"
   ]
  },
  {
   "cell_type": "code",
   "execution_count": 80,
   "metadata": {},
   "outputs": [],
   "source": [
    "rf = RandomForestRegressor()"
   ]
  },
  {
   "cell_type": "code",
   "execution_count": 81,
   "metadata": {},
   "outputs": [
    {
     "data": {
      "text/plain": [
       "RandomForestRegressor()"
      ]
     },
     "execution_count": 81,
     "metadata": {},
     "output_type": "execute_result"
    }
   ],
   "source": [
    "rf.fit(X_train,y_train)"
   ]
  },
  {
   "cell_type": "code",
   "execution_count": 82,
   "metadata": {},
   "outputs": [],
   "source": [
    "pred = rf.predict(X_test)"
   ]
  },
  {
   "cell_type": "code",
   "execution_count": 83,
   "metadata": {},
   "outputs": [
    {
     "data": {
      "text/plain": [
       "8.651514491620981"
      ]
     },
     "execution_count": 83,
     "metadata": {},
     "output_type": "execute_result"
    }
   ],
   "source": [
    "mean_squared_error(y_test,pred)"
   ]
  },
  {
   "cell_type": "code",
   "execution_count": 63,
   "metadata": {},
   "outputs": [],
   "source": [
    "rf = RandomForestRegressor()"
   ]
  },
  {
   "cell_type": "markdown",
   "metadata": {},
   "source": [
    "# This is much better but still not good enough to be a good model "
   ]
  },
  {
   "cell_type": "code",
   "execution_count": 35,
   "metadata": {},
   "outputs": [
    {
     "data": {
      "text/plain": [
       "GridSearchCV(cv=3, estimator=RandomForestRegressor(), n_jobs=-1,\n",
       "             param_grid={'max_depth': [3, 7, 9, 11, 13, 15],\n",
       "                         'n_estimators': [50, 70, 100, 120, 150]},\n",
       "             scoring='neg_mean_squared_error')"
      ]
     },
     "execution_count": 35,
     "metadata": {},
     "output_type": "execute_result"
    }
   ],
   "source": [
    "params = {'n_estimators':[50,70,100,120,150],\n",
    "     'max_depth':[3,7,9,11,13,15]}\n",
    "\n",
    "grid = GridSearchCV(rf,params,cv=3,n_jobs=-1,scoring='neg_mean_squared_error')\n",
    "\n",
    "grid.fit(X_train,y_train)"
   ]
  },
  {
   "cell_type": "code",
   "execution_count": 96,
   "metadata": {},
   "outputs": [
    {
     "data": {
      "text/plain": [
       "dict_keys(['explained_variance', 'r2', 'max_error', 'neg_median_absolute_error', 'neg_mean_absolute_error', 'neg_mean_squared_error', 'neg_mean_squared_log_error', 'neg_root_mean_squared_error', 'neg_mean_poisson_deviance', 'neg_mean_gamma_deviance', 'accuracy', 'roc_auc', 'roc_auc_ovr', 'roc_auc_ovo', 'roc_auc_ovr_weighted', 'roc_auc_ovo_weighted', 'balanced_accuracy', 'average_precision', 'neg_log_loss', 'neg_brier_score', 'adjusted_rand_score', 'homogeneity_score', 'completeness_score', 'v_measure_score', 'mutual_info_score', 'adjusted_mutual_info_score', 'normalized_mutual_info_score', 'fowlkes_mallows_score', 'precision', 'precision_macro', 'precision_micro', 'precision_samples', 'precision_weighted', 'recall', 'recall_macro', 'recall_micro', 'recall_samples', 'recall_weighted', 'f1', 'f1_macro', 'f1_micro', 'f1_samples', 'f1_weighted', 'jaccard', 'jaccard_macro', 'jaccard_micro', 'jaccard_samples', 'jaccard_weighted'])"
      ]
     },
     "execution_count": 96,
     "metadata": {},
     "output_type": "execute_result"
    }
   ],
   "source": [
    "metrics.SCORERS.keys()"
   ]
  },
  {
   "cell_type": "code",
   "execution_count": 103,
   "metadata": {},
   "outputs": [
    {
     "data": {
      "text/plain": [
       "RandomForestRegressor(max_depth=7, n_estimators=70)"
      ]
     },
     "execution_count": 103,
     "metadata": {},
     "output_type": "execute_result"
    }
   ],
   "source": [
    "grid.best_estimator_"
   ]
  },
  {
   "cell_type": "code",
   "execution_count": 36,
   "metadata": {},
   "outputs": [],
   "source": [
    "pred = grid.predict(X_test)"
   ]
  },
  {
   "cell_type": "code",
   "execution_count": 37,
   "metadata": {},
   "outputs": [
    {
     "data": {
      "text/plain": [
       "10.471977932617413"
      ]
     },
     "execution_count": 37,
     "metadata": {},
     "output_type": "execute_result"
    }
   ],
   "source": [
    "mean_squared_error(y_test,pred)"
   ]
  },
  {
   "cell_type": "code",
   "execution_count": 84,
   "metadata": {},
   "outputs": [
    {
     "data": {
      "text/plain": [
       "['rfmodel_mse_8.pkl']"
      ]
     },
     "execution_count": 84,
     "metadata": {},
     "output_type": "execute_result"
    }
   ],
   "source": [
    "# save\n",
    "joblib.dump(grid,'rfmodel_mse_10.pkl')\n",
    "joblib.dump(rf,'rfmodel_mse_8.pkl')"
   ]
  },
  {
   "cell_type": "code",
   "execution_count": 85,
   "metadata": {},
   "outputs": [],
   "source": [
    "val_pred = rf.predict(X_pre[-40:])"
   ]
  },
  {
   "cell_type": "markdown",
   "metadata": {},
   "source": [
    "## this is still overfitting so i am removing the validation set to see if it makes any difference !!"
   ]
  },
  {
   "cell_type": "code",
   "execution_count": 86,
   "metadata": {},
   "outputs": [
    {
     "data": {
      "text/plain": [
       "150.2012485357634"
      ]
     },
     "execution_count": 86,
     "metadata": {},
     "output_type": "execute_result"
    }
   ],
   "source": [
    "mean_squared_error(y_pre[-40:],val_pred)"
   ]
  },
  {
   "cell_type": "markdown",
   "metadata": {},
   "source": [
    "# More things can be added to improve the MSE further "
   ]
  },
  {
   "cell_type": "markdown",
   "metadata": {},
   "source": [
    "## lets Try them out tooo"
   ]
  },
  {
   "cell_type": "code",
   "execution_count": 4,
   "metadata": {},
   "outputs": [],
   "source": [
    "lgbm = LGBMRegressor()"
   ]
  },
  {
   "cell_type": "code",
   "execution_count": 20,
   "metadata": {},
   "outputs": [
    {
     "data": {
      "text/plain": [
       "GridSearchCV(cv=3, estimator=LGBMRegressor(), n_jobs=-1,\n",
       "             param_grid={'max_depth': [3, 7, 9, 11, 13, 15],\n",
       "                         'n_estimators': [50, 70, 100, 120, 150]},\n",
       "             scoring='neg_mean_squared_error')"
      ]
     },
     "execution_count": 20,
     "metadata": {},
     "output_type": "execute_result"
    }
   ],
   "source": [
    "params = {'n_estimators':[50,70,100,120,150],\n",
    "     'max_depth':[3,7,9,11,13,15]}\n",
    "\n",
    "grid = GridSearchCV(lgbm,params,cv=3,n_jobs=-1,scoring='neg_mean_squared_error')\n",
    "\n",
    "grid.fit(X_train,y_train)"
   ]
  },
  {
   "cell_type": "code",
   "execution_count": 24,
   "metadata": {},
   "outputs": [
    {
     "data": {
      "text/plain": [
       "-662.2851452422357"
      ]
     },
     "execution_count": 24,
     "metadata": {},
     "output_type": "execute_result"
    }
   ],
   "source": [
    "grid.best_score_"
   ]
  },
  {
   "cell_type": "markdown",
   "metadata": {},
   "source": [
    "lgbm.fit(X_train,y_train)"
   ]
  },
  {
   "cell_type": "code",
   "execution_count": 22,
   "metadata": {},
   "outputs": [],
   "source": [
    "pred = grid.predict(X_test)"
   ]
  },
  {
   "cell_type": "code",
   "execution_count": 23,
   "metadata": {},
   "outputs": [
    {
     "data": {
      "text/plain": [
       "542.048828137225"
      ]
     },
     "execution_count": 23,
     "metadata": {},
     "output_type": "execute_result"
    }
   ],
   "source": [
    "mean_squared_error(y_test,pred)"
   ]
  },
  {
   "cell_type": "code",
   "execution_count": 25,
   "metadata": {},
   "outputs": [
    {
     "data": {
      "text/html": [
       "<div>\n",
       "<style scoped>\n",
       "    .dataframe tbody tr th:only-of-type {\n",
       "        vertical-align: middle;\n",
       "    }\n",
       "\n",
       "    .dataframe tbody tr th {\n",
       "        vertical-align: top;\n",
       "    }\n",
       "\n",
       "    .dataframe thead th {\n",
       "        text-align: right;\n",
       "    }\n",
       "</style>\n",
       "<table border=\"1\" class=\"dataframe\">\n",
       "  <thead>\n",
       "    <tr style=\"text-align: right;\">\n",
       "      <th></th>\n",
       "      <th>Real-World MPG</th>\n",
       "      <th>Weight (lbs)</th>\n",
       "      <th>Horsepower (HP)</th>\n",
       "      <th>model year</th>\n",
       "    </tr>\n",
       "  </thead>\n",
       "  <tbody>\n",
       "    <tr>\n",
       "      <th>61</th>\n",
       "      <td>14.72404</td>\n",
       "      <td>4342.080</td>\n",
       "      <td>132.2636</td>\n",
       "      <td>1982</td>\n",
       "    </tr>\n",
       "    <tr>\n",
       "      <th>149</th>\n",
       "      <td>18.20216</td>\n",
       "      <td>4105.496</td>\n",
       "      <td>155.0834</td>\n",
       "      <td>1993</td>\n",
       "    </tr>\n",
       "    <tr>\n",
       "      <th>34</th>\n",
       "      <td>17.24547</td>\n",
       "      <td>3484.872</td>\n",
       "      <td>119.4639</td>\n",
       "      <td>1979</td>\n",
       "    </tr>\n",
       "    <tr>\n",
       "      <th>217</th>\n",
       "      <td>22.78274</td>\n",
       "      <td>3415.317</td>\n",
       "      <td>173.3268</td>\n",
       "      <td>2002</td>\n",
       "    </tr>\n",
       "    <tr>\n",
       "      <th>223</th>\n",
       "      <td>19.30479</td>\n",
       "      <td>3747.361</td>\n",
       "      <td>179.0031</td>\n",
       "      <td>2002</td>\n",
       "    </tr>\n",
       "    <tr>\n",
       "      <th>...</th>\n",
       "      <td>...</td>\n",
       "      <td>...</td>\n",
       "      <td>...</td>\n",
       "      <td>...</td>\n",
       "    </tr>\n",
       "    <tr>\n",
       "      <th>288</th>\n",
       "      <td>22.28844</td>\n",
       "      <td>4125.934</td>\n",
       "      <td>229.9718</td>\n",
       "      <td>2011</td>\n",
       "    </tr>\n",
       "    <tr>\n",
       "      <th>76</th>\n",
       "      <td>18.25999</td>\n",
       "      <td>3618.901</td>\n",
       "      <td>114.0118</td>\n",
       "      <td>1984</td>\n",
       "    </tr>\n",
       "    <tr>\n",
       "      <th>325</th>\n",
       "      <td>18.80861</td>\n",
       "      <td>5164.656</td>\n",
       "      <td>324.1680</td>\n",
       "      <td>2015</td>\n",
       "    </tr>\n",
       "    <tr>\n",
       "      <th>224</th>\n",
       "      <td>19.58451</td>\n",
       "      <td>3998.835</td>\n",
       "      <td>198.5784</td>\n",
       "      <td>2003</td>\n",
       "    </tr>\n",
       "    <tr>\n",
       "      <th>318</th>\n",
       "      <td>24.43912</td>\n",
       "      <td>3865.299</td>\n",
       "      <td>203.7429</td>\n",
       "      <td>2014</td>\n",
       "    </tr>\n",
       "  </tbody>\n",
       "</table>\n",
       "<p>246 rows × 4 columns</p>\n",
       "</div>"
      ],
      "text/plain": [
       "     Real-World MPG  Weight (lbs)  Horsepower (HP)  model year\n",
       "61         14.72404      4342.080         132.2636        1982\n",
       "149        18.20216      4105.496         155.0834        1993\n",
       "34         17.24547      3484.872         119.4639        1979\n",
       "217        22.78274      3415.317         173.3268        2002\n",
       "223        19.30479      3747.361         179.0031        2002\n",
       "..              ...           ...              ...         ...\n",
       "288        22.28844      4125.934         229.9718        2011\n",
       "76         18.25999      3618.901         114.0118        1984\n",
       "325        18.80861      5164.656         324.1680        2015\n",
       "224        19.58451      3998.835         198.5784        2003\n",
       "318        24.43912      3865.299         203.7429        2014\n",
       "\n",
       "[246 rows x 4 columns]"
      ]
     },
     "execution_count": 25,
     "metadata": {},
     "output_type": "execute_result"
    }
   ],
   "source": [
    "X_train"
   ]
  },
  {
   "cell_type": "markdown",
   "metadata": {},
   "source": [
    "## seems like we have to go forward with Random Forest Model Only and MSE == 19 , I will try increasing accuracy of this !!! "
   ]
  },
  {
   "cell_type": "code",
   "execution_count": 11,
   "metadata": {},
   "outputs": [],
   "source": [
    "X_train,X_test,y_train,y_test = train_test_split(X_pre,y_pre)"
   ]
  },
  {
   "cell_type": "code",
   "execution_count": 15,
   "metadata": {},
   "outputs": [
    {
     "data": {
      "text/plain": [
       "RandomForestRegressor()"
      ]
     },
     "execution_count": 15,
     "metadata": {},
     "output_type": "execute_result"
    }
   ],
   "source": [
    "rf = RandomForestRegressor()\n",
    "rf.fit(X_train,y_train)"
   ]
  },
  {
   "cell_type": "code",
   "execution_count": 16,
   "metadata": {},
   "outputs": [],
   "source": [
    "predict = rf.predict(X_test)"
   ]
  },
  {
   "cell_type": "code",
   "execution_count": 25,
   "metadata": {},
   "outputs": [
    {
     "data": {
      "text/plain": [
       "6.8789880993681205"
      ]
     },
     "execution_count": 25,
     "metadata": {},
     "output_type": "execute_result"
    }
   ],
   "source": [
    "mean_squared_error(y_test,predict)"
   ]
  },
  {
   "cell_type": "markdown",
   "metadata": {},
   "source": [
    "## this model seems to be woking fine but still i believe its overfitting, i cannot validate the results though but surely lets try doing something else which can prove our point !!"
   ]
  },
  {
   "cell_type": "markdown",
   "metadata": {},
   "source": [
    "#### "
   ]
  },
  {
   "cell_type": "code",
   "execution_count": 19,
   "metadata": {},
   "outputs": [
    {
     "name": "stdout",
     "output_type": "stream",
     "text": [
      "Help on function roc_auc_score in module sklearn.metrics._ranking:\n",
      "\n",
      "roc_auc_score(y_true, y_score, *, average='macro', sample_weight=None, max_fpr=None, multi_class='raise', labels=None)\n",
      "    Compute Area Under the Receiver Operating Characteristic Curve (ROC AUC)\n",
      "    from prediction scores.\n",
      "    \n",
      "    Note: this implementation can be used with binary, multiclass and\n",
      "    multilabel classification, but some restrictions apply (see Parameters).\n",
      "    \n",
      "    Read more in the :ref:`User Guide <roc_metrics>`.\n",
      "    \n",
      "    Parameters\n",
      "    ----------\n",
      "    y_true : array-like of shape (n_samples,) or (n_samples, n_classes)\n",
      "        True labels or binary label indicators. The binary and multiclass cases\n",
      "        expect labels with shape (n_samples,) while the multilabel case expects\n",
      "        binary label indicators with shape (n_samples, n_classes).\n",
      "    \n",
      "    y_score : array-like of shape (n_samples,) or (n_samples, n_classes)\n",
      "        Target scores. In the binary and multilabel cases, these can be either\n",
      "        probability estimates or non-thresholded decision values (as returned\n",
      "        by `decision_function` on some classifiers). In the multiclass case,\n",
      "        these must be probability estimates which sum to 1. The binary\n",
      "        case expects a shape (n_samples,), and the scores must be the scores of\n",
      "        the class with the greater label. The multiclass and multilabel\n",
      "        cases expect a shape (n_samples, n_classes). In the multiclass case,\n",
      "        the order of the class scores must correspond to the order of\n",
      "        ``labels``, if provided, or else to the numerical or lexicographical\n",
      "        order of the labels in ``y_true``.\n",
      "    \n",
      "    average : {'micro', 'macro', 'samples', 'weighted'} or None,             default='macro'\n",
      "        If ``None``, the scores for each class are returned. Otherwise,\n",
      "        this determines the type of averaging performed on the data:\n",
      "        Note: multiclass ROC AUC currently only handles the 'macro' and\n",
      "        'weighted' averages.\n",
      "    \n",
      "        ``'micro'``:\n",
      "            Calculate metrics globally by considering each element of the label\n",
      "            indicator matrix as a label.\n",
      "        ``'macro'``:\n",
      "            Calculate metrics for each label, and find their unweighted\n",
      "            mean.  This does not take label imbalance into account.\n",
      "        ``'weighted'``:\n",
      "            Calculate metrics for each label, and find their average, weighted\n",
      "            by support (the number of true instances for each label).\n",
      "        ``'samples'``:\n",
      "            Calculate metrics for each instance, and find their average.\n",
      "    \n",
      "        Will be ignored when ``y_true`` is binary.\n",
      "    \n",
      "    sample_weight : array-like of shape (n_samples,), default=None\n",
      "        Sample weights.\n",
      "    \n",
      "    max_fpr : float > 0 and <= 1, default=None\n",
      "        If not ``None``, the standardized partial AUC [2]_ over the range\n",
      "        [0, max_fpr] is returned. For the multiclass case, ``max_fpr``,\n",
      "        should be either equal to ``None`` or ``1.0`` as AUC ROC partial\n",
      "        computation currently is not supported for multiclass.\n",
      "    \n",
      "    multi_class : {'raise', 'ovr', 'ovo'}, default='raise'\n",
      "        Multiclass only. Determines the type of configuration to use. The\n",
      "        default value raises an error, so either ``'ovr'`` or ``'ovo'`` must be\n",
      "        passed explicitly.\n",
      "    \n",
      "        ``'ovr'``:\n",
      "            Computes the AUC of each class against the rest [3]_ [4]_. This\n",
      "            treats the multiclass case in the same way as the multilabel case.\n",
      "            Sensitive to class imbalance even when ``average == 'macro'``,\n",
      "            because class imbalance affects the composition of each of the\n",
      "            'rest' groupings.\n",
      "        ``'ovo'``:\n",
      "            Computes the average AUC of all possible pairwise combinations of\n",
      "            classes [5]_. Insensitive to class imbalance when\n",
      "            ``average == 'macro'``.\n",
      "    \n",
      "    labels : array-like of shape (n_classes,), default=None\n",
      "        Multiclass only. List of labels that index the classes in ``y_score``.\n",
      "        If ``None``, the numerical or lexicographical order of the labels in\n",
      "        ``y_true`` is used.\n",
      "    \n",
      "    Returns\n",
      "    -------\n",
      "    auc : float\n",
      "    \n",
      "    References\n",
      "    ----------\n",
      "    .. [1] `Wikipedia entry for the Receiver operating characteristic\n",
      "            <https://en.wikipedia.org/wiki/Receiver_operating_characteristic>`_\n",
      "    \n",
      "    .. [2] `Analyzing a portion of the ROC curve. McClish, 1989\n",
      "            <https://www.ncbi.nlm.nih.gov/pubmed/2668680>`_\n",
      "    \n",
      "    .. [3] Provost, F., Domingos, P. (2000). Well-trained PETs: Improving\n",
      "           probability estimation trees (Section 6.2), CeDER Working Paper\n",
      "           #IS-00-04, Stern School of Business, New York University.\n",
      "    \n",
      "    .. [4] `Fawcett, T. (2006). An introduction to ROC analysis. Pattern\n",
      "            Recognition Letters, 27(8), 861-874.\n",
      "            <https://www.sciencedirect.com/science/article/pii/S016786550500303X>`_\n",
      "    \n",
      "    .. [5] `Hand, D.J., Till, R.J. (2001). A Simple Generalisation of the Area\n",
      "            Under the ROC Curve for Multiple Class Classification Problems.\n",
      "            Machine Learning, 45(2), 171-186.\n",
      "            <http://link.springer.com/article/10.1023/A:1010920819831>`_\n",
      "    \n",
      "    See also\n",
      "    --------\n",
      "    average_precision_score : Area under the precision-recall curve\n",
      "    \n",
      "    roc_curve : Compute Receiver operating characteristic (ROC) curve\n",
      "    \n",
      "    Examples\n",
      "    --------\n",
      "    >>> import numpy as np\n",
      "    >>> from sklearn.metrics import roc_auc_score\n",
      "    >>> y_true = np.array([0, 0, 1, 1])\n",
      "    >>> y_scores = np.array([0.1, 0.4, 0.35, 0.8])\n",
      "    >>> roc_auc_score(y_true, y_scores)\n",
      "    0.75\n",
      "\n"
     ]
    }
   ],
   "source": [
    "help(roc_auc_score)"
   ]
  },
  {
   "cell_type": "code",
   "execution_count": 23,
   "metadata": {},
   "outputs": [
    {
     "data": {
      "text/plain": [
       "248    441\n",
       "20     655\n",
       "2      660\n",
       "62     615\n",
       "58     402\n",
       "      ... \n",
       "205    555\n",
       "42     446\n",
       "109    497\n",
       "322    305\n",
       "171    518\n",
       "Name: Real-World CO2 (g/mi), Length: 92, dtype: int32"
      ]
     },
     "execution_count": 23,
     "metadata": {},
     "output_type": "execute_result"
    }
   ],
   "source": [
    "y_test.astype(int)"
   ]
  },
  {
   "cell_type": "code",
   "execution_count": 24,
   "metadata": {},
   "outputs": [
    {
     "ename": "ValueError",
     "evalue": "multi_class must be in ('ovo', 'ovr')",
     "output_type": "error",
     "traceback": [
      "\u001b[1;31m---------------------------------------------------------------------------\u001b[0m",
      "\u001b[1;31mValueError\u001b[0m                                Traceback (most recent call last)",
      "\u001b[1;32m<ipython-input-24-883be82763d6>\u001b[0m in \u001b[0;36m<module>\u001b[1;34m\u001b[0m\n\u001b[1;32m----> 1\u001b[1;33m roc_auc_score(y_test.astype(int),\n\u001b[0m\u001b[0;32m      2\u001b[0m               predict.astype(int))\n",
      "\u001b[1;32mc:\\users\\asus\\appdata\\local\\programs\\python\\python38\\lib\\site-packages\\sklearn\\utils\\validation.py\u001b[0m in \u001b[0;36minner_f\u001b[1;34m(*args, **kwargs)\u001b[0m\n\u001b[0;32m     71\u001b[0m                           FutureWarning)\n\u001b[0;32m     72\u001b[0m         \u001b[0mkwargs\u001b[0m\u001b[1;33m.\u001b[0m\u001b[0mupdate\u001b[0m\u001b[1;33m(\u001b[0m\u001b[1;33m{\u001b[0m\u001b[0mk\u001b[0m\u001b[1;33m:\u001b[0m \u001b[0marg\u001b[0m \u001b[1;32mfor\u001b[0m \u001b[0mk\u001b[0m\u001b[1;33m,\u001b[0m \u001b[0marg\u001b[0m \u001b[1;32min\u001b[0m \u001b[0mzip\u001b[0m\u001b[1;33m(\u001b[0m\u001b[0msig\u001b[0m\u001b[1;33m.\u001b[0m\u001b[0mparameters\u001b[0m\u001b[1;33m,\u001b[0m \u001b[0margs\u001b[0m\u001b[1;33m)\u001b[0m\u001b[1;33m}\u001b[0m\u001b[1;33m)\u001b[0m\u001b[1;33m\u001b[0m\u001b[1;33m\u001b[0m\u001b[0m\n\u001b[1;32m---> 73\u001b[1;33m         \u001b[1;32mreturn\u001b[0m \u001b[0mf\u001b[0m\u001b[1;33m(\u001b[0m\u001b[1;33m**\u001b[0m\u001b[0mkwargs\u001b[0m\u001b[1;33m)\u001b[0m\u001b[1;33m\u001b[0m\u001b[1;33m\u001b[0m\u001b[0m\n\u001b[0m\u001b[0;32m     74\u001b[0m     \u001b[1;32mreturn\u001b[0m \u001b[0minner_f\u001b[0m\u001b[1;33m\u001b[0m\u001b[1;33m\u001b[0m\u001b[0m\n\u001b[0;32m     75\u001b[0m \u001b[1;33m\u001b[0m\u001b[0m\n",
      "\u001b[1;32mc:\\users\\asus\\appdata\\local\\programs\\python\\python38\\lib\\site-packages\\sklearn\\metrics\\_ranking.py\u001b[0m in \u001b[0;36mroc_auc_score\u001b[1;34m(y_true, y_score, average, sample_weight, max_fpr, multi_class, labels)\u001b[0m\n\u001b[0;32m    382\u001b[0m                              \"instead\".format(max_fpr))\n\u001b[0;32m    383\u001b[0m         \u001b[1;32mif\u001b[0m \u001b[0mmulti_class\u001b[0m \u001b[1;33m==\u001b[0m \u001b[1;34m'raise'\u001b[0m\u001b[1;33m:\u001b[0m\u001b[1;33m\u001b[0m\u001b[1;33m\u001b[0m\u001b[0m\n\u001b[1;32m--> 384\u001b[1;33m             \u001b[1;32mraise\u001b[0m \u001b[0mValueError\u001b[0m\u001b[1;33m(\u001b[0m\u001b[1;34m\"multi_class must be in ('ovo', 'ovr')\"\u001b[0m\u001b[1;33m)\u001b[0m\u001b[1;33m\u001b[0m\u001b[1;33m\u001b[0m\u001b[0m\n\u001b[0m\u001b[0;32m    385\u001b[0m         return _multiclass_roc_auc_score(y_true, y_score, labels,\n\u001b[0;32m    386\u001b[0m                                          multi_class, average, sample_weight)\n",
      "\u001b[1;31mValueError\u001b[0m: multi_class must be in ('ovo', 'ovr')"
     ]
    }
   ],
   "source": [
    "roc_auc_score(y_test.astype(int),\n",
    "              predict.astype(int))"
   ]
  }
 ],
 "metadata": {
  "kernelspec": {
   "display_name": "Python 3",
   "language": "python",
   "name": "python3"
  },
  "language_info": {
   "codemirror_mode": {
    "name": "ipython",
    "version": 3
   },
   "file_extension": ".py",
   "mimetype": "text/x-python",
   "name": "python",
   "nbconvert_exporter": "python",
   "pygments_lexer": "ipython3",
   "version": "3.8.3"
  }
 },
 "nbformat": 4,
 "nbformat_minor": 4
}
