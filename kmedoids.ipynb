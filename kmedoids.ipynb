{
  "nbformat": 4,
  "nbformat_minor": 0,
  "metadata": {
    "colab": {
      "name": "kmedoids.ipynb",
      "provenance": [],
      "collapsed_sections": [],
      "authorship_tag": "ABX9TyPwZ25vO/sa6NY6MmBz0Prz",
      "include_colab_link": true
    },
    "kernelspec": {
      "name": "python3",
      "display_name": "Python 3"
    }
  },
  "cells": [
    {
      "cell_type": "markdown",
      "metadata": {
        "id": "view-in-github",
        "colab_type": "text"
      },
      "source": [
        "<a href=\"https://colab.research.google.com/github/shyamgupta196/learning-process-experiments/blob/master/kmedoids.ipynb\" target=\"_parent\"><img src=\"https://colab.research.google.com/assets/colab-badge.svg\" alt=\"Open In Colab\"/></a>"
      ]
    },
    {
      "cell_type": "code",
      "metadata": {
        "id": "uQTgLE4mrI84"
      },
      "source": [
        "pip install scikit-learn-extra"
      ],
      "execution_count": null,
      "outputs": []
    },
    {
      "cell_type": "code",
      "metadata": {
        "id": "DkyV-KeWD1oV"
      },
      "source": [
        "'''\n",
        "@author=='shyamgupta196\n",
        "python version used==3.8.3\n",
        "'''"
      ],
      "execution_count": null,
      "outputs": []
    },
    {
      "cell_type": "code",
      "metadata": {
        "id": "ZQiW1xJsEM95"
      },
      "source": [
        "from sklearn_extra.cluster import KMedoids \n",
        "from sklearn.preprocessing import StandardScaler\n",
        "import warnings\n",
        "warnings.filterwarnings('ignore')\n",
        "import pandas as pd\n",
        "import numpy as np\n",
        "import matplotlib.pyplot as plt\n",
        "import seaborn as sns\n"
      ],
      "execution_count": null,
      "outputs": []
    },
    {
      "cell_type": "code",
      "metadata": {
        "id": "HswjL97TFX5h"
      },
      "source": [
        "df = pd.read_csv('heart.csv')"
      ],
      "execution_count": null,
      "outputs": []
    },
    {
      "cell_type": "code",
      "metadata": {
        "id": "0r14ZH4R7mh-"
      },
      "source": [
        "sns.distplot(df[['thalach']])"
      ],
      "execution_count": null,
      "outputs": []
    },
    {
      "cell_type": "code",
      "metadata": {
        "id": "eF-yacIK6ops"
      },
      "source": [
        "scale = StandardScaler().fit_transform(df)"
      ],
      "execution_count": null,
      "outputs": []
    },
    {
      "cell_type": "code",
      "metadata": {
        "id": "zvWrRMxq-bTN"
      },
      "source": [
        "df = pd.DataFrame(scale,columns=df.columns)"
      ],
      "execution_count": null,
      "outputs": []
    },
    {
      "cell_type": "code",
      "metadata": {
        "id": "f7k796977b8h"
      },
      "source": [
        "sns.distplot(df[['thalach']])"
      ],
      "execution_count": null,
      "outputs": []
    },
    {
      "cell_type": "code",
      "metadata": {
        "id": "QzyPBaFZreS-"
      },
      "source": [
        "inertias = []\n",
        "for i in range(1,10):\n",
        "  km = KMedoids(i)\n",
        "  preds = km.fit(df[['thalach']])\n",
        "  inertias.append(km.inertia_)\n"
      ],
      "execution_count": null,
      "outputs": []
    },
    {
      "cell_type": "code",
      "metadata": {
        "id": "neicilAptgEs"
      },
      "source": [
        "#using elbow method to find the number of clusters with least SSE"
      ],
      "execution_count": null,
      "outputs": []
    },
    {
      "cell_type": "code",
      "metadata": {
        "id": "W7qBVj2htHw1"
      },
      "source": [
        "plt.plot(inertias)"
      ],
      "execution_count": null,
      "outputs": []
    },
    {
      "cell_type": "code",
      "metadata": {
        "id": "k15xi-H7t4wM"
      },
      "source": [
        "#looks like 4 is value of clusters we were looking at so lets use thatb"
      ],
      "execution_count": null,
      "outputs": []
    },
    {
      "cell_type": "code",
      "metadata": {
        "id": "YbT4ivKBHKuV"
      },
      "source": [
        "km = KMedoids(4).fit(df[['thalach']])"
      ],
      "execution_count": null,
      "outputs": []
    },
    {
      "cell_type": "code",
      "metadata": {
        "id": "TrW34ZN2HwI9"
      },
      "source": [
        "x=df[['thalach']]\n",
        "\n",
        "preds = km.predict(x)\n",
        "print(preds)\n",
        "df['predictions_thalach'] = preds\n",
        "# df.set_index('predictions_thalach',inplace=True)"
      ],
      "execution_count": null,
      "outputs": []
    },
    {
      "cell_type": "code",
      "metadata": {
        "id": "NE1jbovp3YLU"
      },
      "source": [
        "center = km.cluster_centers_\n",
        "print(center[1][0])"
      ],
      "execution_count": null,
      "outputs": []
    },
    {
      "cell_type": "code",
      "metadata": {
        "id": "nzSszy03H4Tt"
      },
      "source": [
        "df1 = df[df.predictions_thalach==3]\n",
        "df2 = df[df.predictions_thalach==1]\n",
        "df3 = df[df.predictions_thalach==2]\n",
        "df4 = df[df.predictions_thalach==0]\n",
        "\n",
        "plt.plot(center[0][0],marker='*',color='black',label='cluster centers')\n",
        "plt.plot(center[1][0],marker='*',color='black')\n",
        "plt.plot(center[2][0],marker='*',color='black')\n",
        "plt.plot(center[3][0],marker='*',color='black')\n",
        "\n",
        "plt.scatter(y=df1.thalach,x=df1.age,label='no risk',)\n",
        "plt.scatter(y=df2.thalach,x=df2.age,label='low risk')\n",
        "plt.scatter(y=df3.thalach,x=df3.age,label='medium risk')\n",
        "plt.scatter(y=df4.thalach,x=df4.age,label='high risk')\n",
        "plt.legend()\n",
        "plt.show()"
      ],
      "execution_count": null,
      "outputs": []
    },
    {
      "cell_type": "code",
      "metadata": {
        "id": "WNH6Qo-VDyfP"
      },
      "source": [
        "#thank you "
      ],
      "execution_count": null,
      "outputs": []
    }
  ]
}