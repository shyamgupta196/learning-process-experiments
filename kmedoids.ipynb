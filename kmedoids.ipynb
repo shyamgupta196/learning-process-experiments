{
  "nbformat": 4,
  "nbformat_minor": 0,
  "metadata": {
    "colab": {
      "name": "kmedoids.ipynb",
      "provenance": [],
      "collapsed_sections": []
    },
    "kernelspec": {
      "name": "python3",
      "display_name": "Python 3"
    }
  },
  "cells": [
    {
      "cell_type": "code",
      "metadata": {
        "id": "uQTgLE4mrI84",
        "outputId": "71338779-bf7f-4147-9d7d-28eca1c3490e",
        "colab": {
          "base_uri": "https://localhost:8080/"
        }
      },
      "source": [
        "pip install scikit-learn-extra"
      ],
      "execution_count": 5,
      "outputs": [
        {
          "output_type": "stream",
          "text": [
            "Requirement already satisfied: scikit-learn-extra in /usr/local/lib/python3.6/dist-packages (0.1.0b2)\n",
            "Requirement already satisfied: scikit-learn>=0.21.0 in /usr/local/lib/python3.6/dist-packages (from scikit-learn-extra) (0.22.2.post1)\n",
            "Requirement already satisfied: scipy>=0.19.1 in /usr/local/lib/python3.6/dist-packages (from scikit-learn-extra) (1.4.1)\n",
            "Requirement already satisfied: numpy>=1.13.3 in /usr/local/lib/python3.6/dist-packages (from scikit-learn-extra) (1.18.5)\n",
            "Requirement already satisfied: joblib>=0.11 in /usr/local/lib/python3.6/dist-packages (from scikit-learn>=0.21.0->scikit-learn-extra) (0.17.0)\n"
          ],
          "name": "stdout"
        }
      ]
    },
    {
      "cell_type": "code",
      "metadata": {
        "id": "DkyV-KeWD1oV",
        "outputId": "d8b53be5-0ca4-4d34-d9eb-c4aa3dc12974",
        "colab": {
          "base_uri": "https://localhost:8080/",
          "height": 35
        }
      },
      "source": [
        "'''\n",
        "@author=='shyamgupta196\n",
        "python version used==3.8.3\n",
        "'''"
      ],
      "execution_count": 6,
      "outputs": [
        {
          "output_type": "execute_result",
          "data": {
            "application/vnd.google.colaboratory.intrinsic+json": {
              "type": "string"
            },
            "text/plain": [
              "\"\\n@author=='shyamgupta196\\npython version used==3.8.3\\n\""
            ]
          },
          "metadata": {
            "tags": []
          },
          "execution_count": 6
        }
      ]
    },
    {
      "cell_type": "code",
      "metadata": {
        "id": "ZQiW1xJsEM95"
      },
      "source": [
        "from sklearn_extra.cluster import KMedoids \n",
        "from sklearn.preprocessing import StandardScaler\n",
        "import warnings\n",
        "warnings.filterwarnings('ignore')\n",
        "import pandas as pd\n",
        "import numpy as np\n",
        "import matplotlib.pyplot as plt\n",
        "import seaborn as sns\n"
      ],
      "execution_count": 7,
      "outputs": []
    },
    {
      "cell_type": "code",
      "metadata": {
        "id": "HswjL97TFX5h"
      },
      "source": [
        "df = pd.read_csv('heart.csv')"
      ],
      "execution_count": 8,
      "outputs": []
    },
    {
      "cell_type": "code",
      "metadata": {
        "id": "0r14ZH4R7mh-",
        "outputId": "03529e8e-8ab6-4b54-90fe-0e9a4f394be5",
        "colab": {
          "base_uri": "https://localhost:8080/",
          "height": 282
        }
      },
      "source": [
        "sns.distplot(df[['thalach']])"
      ],
      "execution_count": 9,
      "outputs": [
        {
          "output_type": "execute_result",
          "data": {
            "text/plain": [
              "<matplotlib.axes._subplots.AxesSubplot at 0x7f051970aa90>"
            ]
          },
          "metadata": {
            "tags": []
          },
          "execution_count": 9
        },
        {
          "output_type": "display_data",
          "data": {
            "image/png": "[encoded data removed]",
            "text/plain": [
              "<Figure size 432x288 with 1 Axes>"
            ]
          },
          "metadata": {
            "tags": [],
            "needs_background": "light"
          }
        }
      ]
    },
    {
      "cell_type": "code",
      "metadata": {
        "id": "eF-yacIK6ops"
      },
      "source": [
        "scale = StandardScaler().fit_transform(df)"
      ],
      "execution_count": 10,
      "outputs": []
    },
    {
      "cell_type": "code",
      "metadata": {
        "id": "zvWrRMxq-bTN"
      },
      "source": [
        "df = pd.DataFrame(scale,columns=df.columns)"
      ],
      "execution_count": 11,
      "outputs": []
    },
    {
      "cell_type": "code",
      "metadata": {
        "id": "f7k796977b8h",
        "outputId": "941d358c-b736-4502-c626-3970c79d9bda",
        "colab": {
          "base_uri": "https://localhost:8080/",
          "height": 282
        }
      },
      "source": [
        "sns.distplot(df[['thalach']])"
      ],
      "execution_count": 12,
      "outputs": [
        {
          "output_type": "execute_result",
          "data": {
            "text/plain": [
              "<matplotlib.axes._subplots.AxesSubplot at 0x7f0517b60940>"
            ]
          },
          "metadata": {
            "tags": []
          },
          "execution_count": 12
        },
        {
          "output_type": "display_data",
          "data": {
            "image/png": "[encoded data removed]",
            "text/plain": [
              "<Figure size 432x288 with 1 Axes>"
            ]
          },
          "metadata": {
            "tags": [],
            "needs_background": "light"
          }
        }
      ]
    },
    {
      "cell_type": "code",
      "metadata": {
        "id": "QzyPBaFZreS-"
      },
      "source": [
        "inertias = []\n",
        "for i in range(1,10):\n",
        "  km = KMedoids(i)\n",
        "  preds = km.fit(df[['thalach']])\n",
        "  inertias.append(km.inertia_)\n"
      ],
      "execution_count": 13,
      "outputs": []
    },
    {
      "cell_type": "code",
      "metadata": {
        "id": "neicilAptgEs"
      },
      "source": [
        "#using elbow method to find the number of clusters with least SSE"
      ],
      "execution_count": 14,
      "outputs": []
    },
    {
      "cell_type": "code",
      "metadata": {
        "id": "W7qBVj2htHw1",
        "outputId": "0066f09e-1743-4583-e626-90ff15f9e911",
        "colab": {
          "base_uri": "https://localhost:8080/",
          "height": 284
        }
      },
      "source": [
        "plt.plot(inertias)"
      ],
      "execution_count": 15,
      "outputs": [
        {
          "output_type": "execute_result",
          "data": {
            "text/plain": [
              "[<matplotlib.lines.Line2D at 0x7f051765ad68>]"
            ]
          },
          "metadata": {
            "tags": []
          },
          "execution_count": 15
        },
        {
          "output_type": "display_data",
          "data": {
            "image/png": "[encoded data removed]",
            "text/plain": [
              "<Figure size 432x288 with 1 Axes>"
            ]
          },
          "metadata": {
            "tags": [],
            "needs_background": "light"
          }
        }
      ]
    },
    {
      "cell_type": "code",
      "metadata": {
        "id": "k15xi-H7t4wM"
      },
      "source": [
        "#looks like 4 is value of clusters we were looking at so lets use thatb"
      ],
      "execution_count": 16,
      "outputs": []
    },
    {
      "cell_type": "code",
      "metadata": {
        "id": "YbT4ivKBHKuV"
      },
      "source": [
        "km = KMedoids(4).fit(df[['thalach']])"
      ],
      "execution_count": 17,
      "outputs": []
    },
    {
      "cell_type": "code",
      "metadata": {
        "id": "TrW34ZN2HwI9",
        "outputId": "e1a72562-fad0-4323-e0dc-89f8a9c95345",
        "colab": {
          "base_uri": "https://localhost:8080/"
        }
      },
      "source": [
        "x=df[['thalach']]\n",
        "\n",
        "preds = km.predict(x)\n",
        "print(preds)\n",
        "df['predictions_thalach'] = preds\n",
        "# df.set_index('predictions_thalach',inplace=True)"
      ],
      "execution_count": 18,
      "outputs": [
        {
          "output_type": "stream",
          "text": [
            "[1 0 0 0 2 1 2 0 2 0 2 1 0 1 2 2 0 3 0 1 2 0 0 1 0 2 2 3 2 1 0 1 0 1 3 2 0\n",
            " 2 1 1 1 0 1 1 0 0 0 2 3 2 1 1 1 0 0 2 0 0 0 2 3 2 0 3 2 0 1 0 0 2 1 2 0 0\n",
            " 2 2 2 2 0 2 0 0 2 0 3 2 1 2 2 3 0 0 0 2 1 3 2 1 2 0 0 1 0 0 2 3 3 1 2 2 2\n",
            " 0 3 2 2 0 0 2 0 1 3 0 0 2 0 0 1 0 0 3 2 2 2 2 2 2 3 1 3 3 2 0 0 1 3 1 1 0\n",
            " 0 1 1 3 2 1 1 3 0 0 1 2 0 2 0 0 0 3 3 2 1 2 1 0 2 0 3 3 2 2 3 3 3 3 0 2 3\n",
            " 2 1 3 2 2 1 3 3 1 2 1 1 2 3 2 0 1 3 1 1 2 1 2 1 2 1 1 1 1 1 1 3 3 3 1 2 3\n",
            " 0 3 3 3 3 3 2 3 1 3 1 3 3 0 0 0 2 2 3 1 3 3 3 2 1 3 0 1 3 1 3 3 3 1 3 3 2\n",
            " 0 2 2 3 0 3 3 3 3 3 3 1 1 3 2 3 0 3 1 1 3 3 2 1 0 1 3 2 2 1 3 2 1 1 1 1 1\n",
            " 1 3 3 3 1 3 0]\n"
          ],
          "name": "stdout"
        }
      ]
    },
    {
      "cell_type": "code",
      "metadata": {
        "id": "NE1jbovp3YLU",
        "outputId": "22321cd7-ad2b-44f1-b0fa-298de06d4edd",
        "colab": {
          "base_uri": "https://localhost:8080/"
        }
      },
      "source": [
        "center = km.cluster_centers_\n",
        "print(center[1][0])"
      ],
      "execution_count": 19,
      "outputs": [
        {
          "output_type": "stream",
          "text": [
            "-0.2469402439592336\n"
          ],
          "name": "stdout"
        }
      ]
    },
    {
      "cell_type": "code",
      "metadata": {
        "id": "nzSszy03H4Tt",
        "outputId": "8fb2146c-7c32-4a54-f973-39dd1281404c",
        "colab": {
          "base_uri": "https://localhost:8080/",
          "height": 265
        }
      },
      "source": [
        "df1 = df[df.predictions_thalach==3]\n",
        "df2 = df[df.predictions_thalach==1]\n",
        "df3 = df[df.predictions_thalach==2]\n",
        "df4 = df[df.predictions_thalach==0]\n",
        "\n",
        "plt.plot(center[0][0],marker='*',color='black',label='cluster centers')\n",
        "plt.plot(center[1][0],marker='*',color='black')\n",
        "plt.plot(center[2][0],marker='*',color='black')\n",
        "plt.plot(center[3][0],marker='*',color='black')\n",
        "\n",
        "plt.scatter(y=df1.thalach,x=df1.age,label='no risk',)\n",
        "plt.scatter(y=df2.thalach,x=df2.age,label='low risk')\n",
        "plt.scatter(y=df3.thalach,x=df3.age,label='medium risk')\n",
        "plt.scatter(y=df4.thalach,x=df4.age,label='high risk')\n",
        "plt.legend()\n",
        "plt.show()"
      ],
      "execution_count": 20,
      "outputs": [
        {
          "output_type": "display_data",
          "data": {
            "image/png": "[encoded data removed]",
            "text/plain": [
              "<Figure size 432x288 with 1 Axes>"
            ]
          },
          "metadata": {
            "tags": [],
            "needs_background": "light"
          }
        }
      ]
    },
    {
      "cell_type": "code",
      "metadata": {
        "id": "WNH6Qo-VDyfP"
      },
      "source": [
        "#thank you "
      ],
      "execution_count": 21,
      "outputs": []
    }
  ]
}